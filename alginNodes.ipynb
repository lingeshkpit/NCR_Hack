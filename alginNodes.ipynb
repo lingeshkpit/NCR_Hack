{
 "cells": [
  {
   "cell_type": "code",
   "execution_count": 1,
   "source": [
    "import json\n",
    "import networkx as nx\n",
    "import numpy as np\n",
    "import math\n",
    "from numpy.linalg import norm"
   ],
   "outputs": [],
   "metadata": {}
  },
  {
   "cell_type": "code",
   "execution_count": 2,
   "metadata": {},
   "outputs": [],
   "source": [
    "def showGraph(G):\n",
    "    pos = {}\n",
    "    for node in G.nodes(data = True):\n",
    "        pos[node[0]] = [int(p) for p in node[1]['position'][0:2]]\n",
    "    nx.draw(G, pos = pos)"
   ]
  },
  {
   "cell_type": "code",
   "execution_count": 3,
   "metadata": {},
   "outputs": [],
   "source": [
    "def createGraph(graph):\n",
    "    pass\n",
    "    # G = nx.Graph()\n",
    "    # for node in graph['node']:\n",
    "    #     G.add_node(node['storeName'], \n",
    "    #         storeName = node['storeName'], \n",
    "    #         position = (node['posX'], node['posY']))\n",
    "    # for edge in graph['edge']:\n",
    "        # x1,y1,z1 = map(int,G.nodes[edge['node'][0]]['position'])\n",
    "        # x2,y2,z2 = map(int,G.nodes[edge['node'][1]]['position'])\n",
    "        # G.add_edge(edge['node'][0], edge['node'][1], weight = int(abs((x1-x2) +(y1-y2) +(z1-z2))))\n",
    "    # return G"
   ]
  },
  {
   "cell_type": "code",
   "execution_count": 4,
   "metadata": {},
   "outputs": [],
   "source": [
    "def readJson(path,nodeType):\n",
    "    G = []\n",
    "    nodes = []\n",
    "    f = open(path)\n",
    "    graph = json.load(f, parse_int=str)\n",
    "    count = 1\n",
    "    for node in graph['storeNodes']:\n",
    "        nodeId = nodeType + str(count)\n",
    "        nodePos = np.array([int(node['posX']),int(node['posY'])])\n",
    "        G.append([nodeId,nodePos])\n",
    "        nodes.append([nodeId,node['storeName']])\n",
    "        count += 1\n",
    "    return (G,nodes)"
   ]
  },
  {
   "cell_type": "code",
   "execution_count": 5,
   "metadata": {},
   "outputs": [
    {
     "output_type": "stream",
     "name": "stdout",
     "text": [
      "sGraph\n[['store1', array([5, 2])], ['store2', array([10,  2])], ['store3', array([16,  4])], ['store4', array([16, 11])], ['store5', array([ 9, 13])], ['store6', array([7, 8])], ['store7', array([12,  8])], ['store8', array([3, 8])]]\ncGraph\n[['C1', array([5, 8])], ['C2', array([10, 11])], ['C3', array([14,  8])], ['C4', array([10,  5])]]\n"
     ]
    }
   ],
   "source": [
    "sGraph, Nodes = readJson(\"./Jsons/S3.json\",\"store\")\n",
    "print('sGraph')\n",
    "print(sGraph)\n",
    "cGraph, Nodes = readJson(\"./Jsons/C3.json\",\"C\")\n",
    "print('cGraph')\n",
    "print(cGraph)"
   ]
  },
  {
   "cell_type": "code",
   "execution_count": 6,
   "metadata": {},
   "outputs": [],
   "source": [
    "def alignNodes(G):\n",
    "    i = 0\n",
    "    for nodeId_i, pos_i in G:\n",
    "        i += 1\n",
    "        for nodeId_j, pos_j in G[i:]:\n",
    "            for axis in range(2):\n",
    "                if(1 <= abs(pos_i[axis] - pos_j[axis]) < 2):\n",
    "                    pos_i[axis] = pos_j[axis] = (pos_i[axis] + pos_j[axis])/2\n",
    "    \n",
    "    i = 0\n",
    "    for nodeId_i, pos_i in G:\n",
    "        i += 1\n",
    "        for nodeId_j, pos_j in G[i:]:\n",
    "            for axis in range(2):\n",
    "                if(1 <= abs(pos_i[axis] - pos_j[axis]) < 2):\n",
    "                    pos_i[axis] = pos_j[axis] = int((pos_i[axis] + pos_j[axis])//2)\n",
    "    return G"
   ]
  },
  {
   "cell_type": "code",
   "execution_count": 7,
   "metadata": {},
   "outputs": [
    {
     "output_type": "stream",
     "name": "stdout",
     "text": [
      "alignedStoreNodes\n[['store1', array([5, 2])], ['store2', array([9, 2])], ['store3', array([16,  4])], ['store4', array([16, 11])], ['store5', array([ 9, 13])], ['store6', array([7, 8])], ['store7', array([12,  8])], ['store8', array([3, 8])]]\nalignedCorridorNodes¸\n[['C1', array([5, 8])], ['C2', array([10, 11])], ['C3', array([14,  8])], ['C4', array([10,  5])]]\n"
     ]
    }
   ],
   "source": [
    "alignedStoreNodes = alignNodes(sGraph)\n",
    "print(\"alignedStoreNodes\")\n",
    "print(alignedStoreNodes)\n",
    "alignedCorridorNodes = alignNodes(cGraph)\n",
    "print(\"alignedCorridorNodes¸\")\n",
    "print(alignedCorridorNodes)"
   ]
  },
  {
   "cell_type": "code",
   "execution_count": 8,
   "metadata": {},
   "outputs": [],
   "source": [
    "def getCorridors(G):\n",
    "    G = sorted(G,key=lambda x: x[1][0])\n",
    "    Corners = []\n",
    "    i = 0\n",
    "    for nodeId_i, pos_i in G:\n",
    "        i += 1\n",
    "        for nodeId_j, pos_j in G[i:]:\n",
    "            if(not(pos_i[0] == pos_j[0] or pos_i[1] == pos_j[1])):\n",
    "                if(not([pos_i[0],pos_j[1]] in Corners)):\n",
    "                    Corners.append([pos_i[0],pos_j[1]])\n",
    "                else: \n",
    "                    Corners.pop(Corners.index([pos_i[0],pos_j[1]]))\n",
    "\n",
    "                if(not([pos_j[0],pos_i[1]] in Corners)):\n",
    "                    Corners.append([pos_j[0],pos_i[1]])\n",
    "                else:\n",
    "                    Corners.pop(Corners.index([pos_j[0],pos_i[1]]))\n",
    "    corridorCorners = []\n",
    "    count = 1\n",
    "    for node in Corners:\n",
    "        cId = \"C\" + str(count)\n",
    "        corridorCorners.append([cId,np.array(node)])\n",
    "        count += 1\n",
    "\n",
    "    Corridors = []\n",
    "    for i in range(len(Corners)):\n",
    "            for j in range(i+1,len(Corners)):\n",
    "                if(Corners[i][0]==Corners[j][0]):\n",
    "                    Corridors.append([0,np.array(Corners[i]),np.array(Corners[j])])\n",
    "                if(Corners[i][1]==Corners[j][1]):\n",
    "                    Corridors.append([1,np.array(Corners[i]),np.array(Corners[j])])\n",
    "    return corridorCorners, Corridors"
   ]
  },
  {
   "cell_type": "code",
   "execution_count": 9,
   "metadata": {},
   "outputs": [
    {
     "output_type": "stream",
     "name": "stdout",
     "text": [
      "corridorCorners\n[['C1', array([ 5, 11])], ['C2', array([5, 5])], ['C3', array([14, 11])], ['C4', array([14,  5])]]\ncorridors\n[[0, array([ 5, 11]), array([5, 5])], [1, array([ 5, 11]), array([14, 11])], [1, array([5, 5]), array([14,  5])], [0, array([14, 11]), array([14,  5])]]\n"
     ]
    }
   ],
   "source": [
    "corridorCorners, corridors= getCorridors(alignedCorridorNodes)\n",
    "print('corridorCorners')\n",
    "print(corridorCorners)\n",
    "print('corridors')\n",
    "print(corridors)"
   ]
  },
  {
   "cell_type": "code",
   "execution_count": 10,
   "metadata": {},
   "outputs": [],
   "source": [
    "# d = norm(np.cross(p2-p1, p1-p3))/norm(p2-p1)\n",
    "def getCorridorNodes(storeNodes,Corridors,CorridorNodes):\n",
    "    for sId,storeNode in storeNodes:\n",
    "        distance = [9999]\n",
    "        newNode = np.copy(storeNode)            \n",
    "        for [axis,p1,p2] in Corridors:\n",
    "            d = norm(np.cross(p2-p1, p1-storeNode))/norm(p2-p1)\n",
    "            if(distance[0] > d):\n",
    "                distance = [d,axis,p1]\n",
    "            if(d == 0):\n",
    "                if(norm(p1-storeNode)>norm(p2-storeNode)):\n",
    "                    newNode = np.copy(p2)\n",
    "                else:\n",
    "                    newNode = np.copy(p1)\n",
    "                break\n",
    "        newNode[distance[1]] = distance[2][distance[1]]\n",
    "        flag = 1\n",
    "        for cId ,cnode in CorridorNodes:\n",
    "            if(np.array_equal(newNode,cnode)):\n",
    "                flag = 0\n",
    "                break\n",
    "        if(flag):\n",
    "            cId = \"C\" + str(len(CorridorNodes) + 1)\n",
    "            CorridorNodes.append([cId,newNode])\n",
    "    return CorridorNodes"
   ]
  },
  {
   "cell_type": "code",
   "execution_count": 11,
   "metadata": {},
   "outputs": [
    {
     "output_type": "stream",
     "name": "stdout",
     "text": [
      "[['C1', array([ 5, 11])], ['C2', array([5, 5])], ['C3', array([14, 11])], ['C4', array([14,  5])], ['C5', array([9, 5])], ['C6', array([16,  5])], ['C7', array([ 9, 11])], ['C8', array([5, 8])], ['C9', array([14,  8])]]\n9\n"
     ]
    }
   ],
   "source": [
    "corridorNodes = getCorridorNodes(alignedStoreNodes,corridors,corridorCorners)\n",
    "print(corridorNodes)\n",
    "print(len(corridorNodes))"
   ]
  },
  {
   "cell_type": "code",
   "execution_count": 12,
   "metadata": {},
   "outputs": [],
   "source": [
    "def connectSNodes(corridorNodes,storeNodes):\n",
    "    edges = []\n",
    "    for sId, p1 in storeNodes:\n",
    "        distance = [9999]\n",
    "        for cId, p2 in corridorNodes:\n",
    "            if((p1 == p2).any()):\n",
    "                d = int(norm(p2-p1))\n",
    "                if(distance[-1]>d):\n",
    "                    distance = [sId,cId,p1,p2,d]\n",
    "        edges.append(distance)\n",
    "    return edges"
   ]
  },
  {
   "cell_type": "code",
   "execution_count": 13,
   "metadata": {},
   "outputs": [
    {
     "output_type": "stream",
     "name": "stdout",
     "text": [
      "[['store1', 'C2', array([5, 2]), array([5, 5]), 3], ['store2', 'C5', array([9, 2]), array([9, 5]), 3], ['store3', 'C6', array([16,  4]), array([16,  5]), 1], ['store4', 'C3', array([16, 11]), array([14, 11]), 2], ['store5', 'C7', array([ 9, 13]), array([ 9, 11]), 2], ['store6', 'C8', array([7, 8]), array([5, 8]), 2], ['store7', 'C9', array([12,  8]), array([14,  8]), 2], ['store8', 'C8', array([3, 8]), array([5, 8]), 2]]\n8 8\n"
     ]
    }
   ],
   "source": [
    "sEdges = connectSNodes(corridorNodes,alignedStoreNodes)\n",
    "print(sEdges)\n",
    "print(len(sEdges),len(alignedStoreNodes))"
   ]
  },
  {
   "cell_type": "code",
   "execution_count": 14,
   "metadata": {},
   "outputs": [],
   "source": [
    "def connectCNodes(corridorNodes,storeNodes):\n",
    "    edges = []\n",
    "    i = 0\n",
    "    for cId_i, p1 in corridorNodes:\n",
    "        i += 1\n",
    "        distance = []\n",
    "        for cId_j, p2 in corridorNodes[i:]:\n",
    "            if((p1 == p2).any()):\n",
    "                d = int(norm(p2-p1))\n",
    "                distance.append([cId_i,cId_j,p1,p2,d])\n",
    "        distance = sorted(distance,key=lambda x: x[-1])\n",
    "        try:\n",
    "            edges.append(distance[0])\n",
    "            edges.append(distance[1])\n",
    "        except:\n",
    "            pass\n",
    "    return edges"
   ]
  },
  {
   "cell_type": "code",
   "execution_count": 15,
   "metadata": {},
   "outputs": [
    {
     "output_type": "stream",
     "name": "stdout",
     "text": [
      "[['C1', 'C8', array([ 5, 11]), array([5, 8]), 3], ['C1', 'C7', array([ 5, 11]), array([ 9, 11]), 4], ['C2', 'C8', array([5, 5]), array([5, 8]), 3], ['C2', 'C5', array([5, 5]), array([9, 5]), 4], ['C3', 'C9', array([14, 11]), array([14,  8]), 3], ['C3', 'C7', array([14, 11]), array([ 9, 11]), 5], ['C4', 'C6', array([14,  5]), array([16,  5]), 2], ['C4', 'C9', array([14,  5]), array([14,  8]), 3], ['C5', 'C7', array([9, 5]), array([ 9, 11]), 6], ['C5', 'C6', array([9, 5]), array([16,  5]), 7], ['C8', 'C9', array([5, 8]), array([14,  8]), 9]]\n11 9\n"
     ]
    }
   ],
   "source": [
    "cEdges = connectCNodes(corridorNodes,alignedStoreNodes)\n",
    "print(cEdges)\n",
    "print(len(cEdges),len(corridorNodes))"
   ]
  }
 ],
 "metadata": {
  "kernelspec": {
   "name": "python3",
   "display_name": "Python 3.9.6 64-bit"
  },
  "language_info": {
   "codemirror_mode": {
    "name": "ipython",
    "version": 3
   },
   "file_extension": ".py",
   "mimetype": "text/x-python",
   "name": "python",
   "nbconvert_exporter": "python",
   "pygments_lexer": "ipython3",
   "version": "3.9.6"
  },
  "interpreter": {
   "hash": "949777d72b0d2535278d3dc13498b2535136f6dfe0678499012e853ee9abcab1"
  }
 },
 "nbformat": 4,
 "nbformat_minor": 1
}
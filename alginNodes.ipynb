{
 "cells": [
  {
   "cell_type": "code",
   "execution_count": 5,
   "source": [
    "import json\n",
    "import networkx as nx\n",
    "import numpy as np\n",
    "import math\n",
    "from numpy.linalg import norm"
   ],
   "outputs": [],
   "metadata": {}
  },
  {
   "cell_type": "code",
   "execution_count": 6,
   "metadata": {},
   "outputs": [],
   "source": [
    "def showGraph(G):\n",
    "    pos = {}\n",
    "    for node in G.nodes(data = True):\n",
    "        pos[node[0]] = [int(p) for p in node[1]['position'][0:2]]\n",
    "    nx.draw(G, pos = pos)\n",
    "\n",
    "def createGraph(graph):\n",
    "    G = nx.Graph()\n",
    "    for node in graph['node']:\n",
    "        G.add_node(node['storeName'], \n",
    "            storeName = node['storeName'], \n",
    "            position = (node['posX'], node['posY']))\n",
    "    # for edge in graph['edge']:\n",
    "        # x1,y1,z1 = map(int,G.nodes[edge['node'][0]]['position'])\n",
    "        # x2,y2,z2 = map(int,G.nodes[edge['node'][1]]['position'])\n",
    "        # G.add_edge(edge['node'][0], edge['node'][1], weight = int(abs((x1-x2) +(y1-y2) +(z1-z2))))\n",
    "    return G\n",
    "\n",
    "def alignNodes(path):\n",
    "    G = []\n",
    "    f = open(path)\n",
    "    graph = json.load(f, parse_int=str)\n",
    "    for node in graph['storeNodes']:\n",
    "        G.append([node['storeName'],int(node['posX']),int(node['posY'])])\n",
    "    for i in range(len(G)):\n",
    "        for j in range(i+1, len(G)):\n",
    "            for k in range(1,3):\n",
    "                if(1 <= abs(G[i][1]-G[j][1]) < 2):\n",
    "                    G[i][k] = G[j][k] = (G[i][k]+G[j][k])/2\n",
    "    for i in range(len(G)):\n",
    "        for j in range(i+1, len(G)):\n",
    "            for k in range(1,3):\n",
    "                if(abs(G[i][k]-G[j][k]) < 2):\n",
    "                    G[i][k] = G[j][k] = int((G[i][k]+G[j][k])//2)\n",
    "                    # print(G[i],G[j]) \n",
    "    return G\n"
   ]
  },
  {
   "cell_type": "code",
   "execution_count": 7,
   "metadata": {},
   "outputs": [
    {
     "output_type": "stream",
     "name": "stdout",
     "text": [
      "[7 4]\n[12  4]\n[17  4]\n[36  8]\n[36 15]\n[33 25]\n[19 25]\n[10 25]\n[ 3 22]\n[ 3 15]\n[3 8]\n[12 15]\n[19 13]\n[27 13]\n[27 17]\n[19 17]\n"
     ]
    }
   ],
   "source": [
    "alignedStoreNodes = alignNodes('./Jsons/S1.json')       \n",
    "StoreNode = np.array([[int(X[1]),int(X[2])] for X in alignedStoreNodes ])      \n",
    "for node in StoreNode:\n",
    "    print(node)"
   ]
  },
  {
   "cell_type": "code",
   "execution_count": 8,
   "metadata": {},
   "outputs": [],
   "source": [
    "for i in range(len(alignedStoreNodes)):\n",
    "    for j in range(i+1,len(alignedStoreNodes)):\n",
    "        if(not(alignedStoreNodes[i][1] == alignedStoreNodes[j][1] or alignedStoreNodes[i][2] == alignedStoreNodes[j][2] )):\n",
    "            # print(alignedStoreNodes[i],alignedStoreNodes[j])\n",
    "            pass"
   ]
  },
  {
   "cell_type": "code",
   "execution_count": 9,
   "metadata": {},
   "outputs": [
    {
     "output_type": "stream",
     "name": "stdout",
     "text": [
      "['C2', 7, 13]\n['C1', 19, 7]\n['C3', 19, 21]\n['C4', 32, 13]\n[[7, 7], [7, 21], [32, 7], [32, 21]]\n"
     ]
    }
   ],
   "source": [
    "G = alignNodes('./Jsons/C1.json')\n",
    "G = sorted(G,key=lambda x: x[1])\n",
    "C = []\n",
    "for node in G:\n",
    "    print(node)\n",
    "    # return G \n",
    "# for i in range(len(G)):\n",
    "#     for j in range(i+1, len(G)):\n",
    "#         if(not(G[i][1] == G[j][1] or G[i][2] == G[j][2])):\n",
    "#             print(G[i],G[j])\n",
    "            \n",
    "for i in range(len(G)):\n",
    "    for j in range(i+1, len(G)):\n",
    "        if(not(G[i][1] == G[j][1] or G[i][2] == G[j][2])):\n",
    "            if(not ([G[i][1],G[j][2]] in C)):\n",
    "                C.append([G[i][1],G[j][2]])\n",
    "            if(not([G[j][1],G[i][2]] in C)):\n",
    "                C.append([G[j][1],G[i][2]])\n",
    "center = [0,0]\n",
    "for i in C:\n",
    "    center[0] += i[0]\n",
    "    center[1] += i[1]\n",
    "\n",
    "center = [int(center[0]/5),int(center[1]/5)]\n",
    "C.pop(C.index(center))\n",
    "print(C)\n",
    "C = np.array(C)\n",
    "# print(type(C))"
   ]
  },
  {
   "cell_type": "code",
   "execution_count": 13,
   "metadata": {},
   "outputs": [
    {
     "output_type": "stream",
     "name": "stdout",
     "text": [
      "Y-axis [7 7] [ 7 21] [7 4]\n5.0\nX-axis [7 7] [32  7] [7 4]\n3.0\nX-axis [ 7 21] [32 21] [7 4]\n17.0\nY-axis [32  7] [32 21] [7 4]\n20.0\n"
     ]
    }
   ],
   "source": [
    "D = []\n",
    "for i in range(len(C)):\n",
    "    for j in range(i+1,len(C)):\n",
    "        if(C[i][0]==C[j][0] ):\n",
    "            print(\"Y-axis\",C[i],C[j],StoreNode[0])\n",
    "            print(norm(np.cross(C[j]-C[i], C[i]-StoreNode[1]))/norm(C[j]-C[i]))\n",
    "        if(C[i][1]==C[j][1] ):\n",
    "            print(\"X-axis\",C[i],C[j],StoreNode[0])\n",
    "            print(norm(np.cross(C[j]-C[i], C[i]-StoreNode[1]))/norm(C[j]-C[i]))\n",
    "# print(D)\n",
    "# d = norm(np.cross(p2-p1, p1-p3))/norm(p2-p1)"
   ]
  },
  {
   "cell_type": "code",
   "execution_count": null,
   "metadata": {},
   "outputs": [],
   "source": []
  }
 ],
 "metadata": {
  "kernelspec": {
   "name": "python3",
   "display_name": "Python 3.9.6 64-bit"
  },
  "language_info": {
   "codemirror_mode": {
    "name": "ipython",
    "version": 3
   },
   "file_extension": ".py",
   "mimetype": "text/x-python",
   "name": "python",
   "nbconvert_exporter": "python",
   "pygments_lexer": "ipython3",
   "version": "3.9.6"
  },
  "interpreter": {
   "hash": "949777d72b0d2535278d3dc13498b2535136f6dfe0678499012e853ee9abcab1"
  }
 },
 "nbformat": 4,
 "nbformat_minor": 1
}
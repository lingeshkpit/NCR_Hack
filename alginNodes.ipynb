{
 "cells": [
  {
   "cell_type": "code",
   "execution_count": 1,
   "source": [
    "import json\n",
    "import networkx as nx\n",
    "import numpy as np\n",
    "import math\n",
    "from numpy.linalg import norm"
   ],
   "outputs": [],
   "metadata": {}
  },
  {
   "cell_type": "code",
   "execution_count": 2,
   "metadata": {},
   "outputs": [],
   "source": [
    "def showGraph(G):\n",
    "    pos = {}\n",
    "    for node in G.nodes(data = True):\n",
    "        pos[node[0]] = [int(p) for p in node[1]['position'][0:2]]\n",
    "    nx.draw(G, pos = pos)\n"
   ]
  },
  {
   "cell_type": "code",
   "execution_count": 3,
   "metadata": {},
   "outputs": [],
   "source": [
    "def createGraph(graph):\n",
    "    G = nx.Graph()\n",
    "    for node in graph['node']:\n",
    "        G.add_node(node['storeName'], \n",
    "            storeName = node['storeName'], \n",
    "            position = (node['posX'], node['posY']))\n",
    "    # for edge in graph['edge']:\n",
    "        # x1,y1,z1 = map(int,G.nodes[edge['node'][0]]['position'])\n",
    "        # x2,y2,z2 = map(int,G.nodes[edge['node'][1]]['position'])\n",
    "        # G.add_edge(edge['node'][0], edge['node'][1], weight = int(abs((x1-x2) +(y1-y2) +(z1-z2))))\n",
    "    return G"
   ]
  },
  {
   "cell_type": "code",
   "execution_count": 4,
   "metadata": {},
   "outputs": [],
   "source": [
    "def alignNodes(path):\n",
    "    G = []\n",
    "    f = open(path)\n",
    "    graph = json.load(f, parse_int=str)\n",
    "    for node in graph['storeNodes']:\n",
    "        G.append([node['storeName'],int(node['posX']),int(node['posY'])])\n",
    "    for i in range(len(G)):\n",
    "        for j in range(i+1, len(G)):\n",
    "            for k in range(1,3):\n",
    "                if(1 <= abs(G[i][k]-G[j][k]) < 2):\n",
    "                    G[i][k] = G[j][k] = (G[i][k]+G[j][k])/2\n",
    "    for i in range(len(G)):\n",
    "        for j in range(i+1, len(G)):\n",
    "            for k in range(1,3):\n",
    "                if(abs(G[i][k]-G[j][k]) < 2):\n",
    "                    G[i][k] = G[j][k] = int((G[i][k]+G[j][k])//2)\n",
    "                    # print(G[i],G[j]) \n",
    "    return G"
   ]
  },
  {
   "cell_type": "code",
   "execution_count": 5,
   "metadata": {},
   "outputs": [],
   "source": [
    "def getCorridors(G):\n",
    "    G = sorted(G,key=lambda x: x[1])\n",
    "    Corners = [] \n",
    "    for i in range(len(G)):\n",
    "        for j in range(i+1, len(G)):\n",
    "            if(not(G[i][1] == G[j][1] or G[i][2] == G[j][2])):\n",
    "                if(not ([G[i][1],G[j][2]] in Corners)):\n",
    "                    Corners.append([G[i][1],G[j][2]])\n",
    "                if(not([G[j][1],G[i][2]] in Corners)):\n",
    "                    Corners.append([G[j][1],G[i][2]])\n",
    "    center = [0,0]\n",
    "    for i in Corners:\n",
    "        center[0] += i[0]\n",
    "        center[1] += i[1]\n",
    "\n",
    "    center = [int(center[0]/5),int(center[1]/5)]\n",
    "    try:\n",
    "        Corners.pop(Corners.index(center))\n",
    "    except:\n",
    "        pass\n",
    "    Corridors = []\n",
    "    for i in range(len(Corners)):\n",
    "            for j in range(i+1,len(Corners)):\n",
    "                if(Corners[i][0]==Corners[j][0]):\n",
    "                    Corridors.append([0,np.array(Corners[i]),np.array(Corners[j])])\n",
    "                if(Corners[i][1]==Corners[j][1]):\n",
    "                    Corridors.append([1,np.array(Corners[i]),np.array(Corners[j])])\n",
    "    return Corridors"
   ]
  },
  {
   "cell_type": "code",
   "execution_count": 6,
   "metadata": {},
   "outputs": [],
   "source": [
    "# d = norm(np.cross(p2-p1, p1-p3))/norm(p2-p1)\n",
    "def getCorridorNodes(storeNodes,Corridors):\n",
    "    CorridorNodes = []\n",
    "    for storeNode in storeNodes:\n",
    "        distance = [9999]\n",
    "        # print(storeNode)\n",
    "        newNode = np.copy(storeNode)            \n",
    "        for [axis,p1,p2] in Corridors:\n",
    "            d = norm(np.cross(p2-p1, p1-storeNode))/norm(p2-p1)\n",
    "            if(distance[0] > d):\n",
    "                distance = [d,axis,p1]\n",
    "            if(d == 0):\n",
    "                if(norm(p1-storeNode)>norm(p2-storeNode)):\n",
    "                    newNode = np.copy(p2)\n",
    "                else:\n",
    "                    newNode = np.copy(p1)\n",
    "                break\n",
    "        newNode[distance[1]] = distance[2][distance[1]]\n",
    "        CorridorNodes.append(newNode)\n",
    "        # print(distance[0],storeNode,newNode)\n",
    "    return CorridorNodes"
   ]
  },
  {
   "cell_type": "code",
   "execution_count": null,
   "metadata": {},
   "outputs": [],
   "source": [
    "def connectCorridorNodes(corridorNodes):\n",
    "    "
   ]
  },
  {
   "cell_type": "code",
   "execution_count": 7,
   "metadata": {},
   "outputs": [
    {
     "output_type": "stream",
     "name": "stdout",
     "text": [
      "[[ 5  2]\n [ 9  2]\n [16  4]\n [16 11]\n [ 9 13]\n [ 7  8]\n [12  8]\n [ 3  8]]\n"
     ]
    }
   ],
   "source": [
    "alignedStoreNodes = alignNodes('./Jsons/S3.json')       \n",
    "StoreNode = np.array([[int(X[1]),int(X[2])] for X in alignedStoreNodes ])\n",
    "print(StoreNode)"
   ]
  },
  {
   "cell_type": "code",
   "execution_count": 8,
   "metadata": {},
   "outputs": [
    {
     "output_type": "stream",
     "name": "stdout",
     "text": [
      "[['c1', 5, 8], ['c2', 10, 11], ['c3', 14, 8], ['c4', 10, 5]]\n"
     ]
    }
   ],
   "source": [
    "alignedCorridorNodes = alignNodes('./Jsons/C3.json')\n",
    "print(alignedCorridorNodes)\n",
    "corridorNodes = np.array([[int(X[1]),int(X[2])] for X in alignedCorridorNodes ])\n",
    "corridorCorners = getCorridors(alignedCorridorNodes)\n",
    "# print(corridorCorners)"
   ]
  },
  {
   "cell_type": "code",
   "execution_count": 9,
   "metadata": {},
   "outputs": [
    {
     "output_type": "stream",
     "name": "stdout",
     "text": [
      "[array([5, 5]), array([9, 5]), array([16,  5]), array([14, 11]), array([ 9, 11]), array([5, 8]), array([14,  8]), array([5, 8])]\n"
     ]
    }
   ],
   "source": [
    "corridorNodes = getCorridorNodes(StoreNode,corridorCorners)\n",
    "print(corridorNodes)"
   ]
  }
 ],
 "metadata": {
  "kernelspec": {
   "name": "python3",
   "display_name": "Python 3.9.6 64-bit"
  },
  "language_info": {
   "codemirror_mode": {
    "name": "ipython",
    "version": 3
   },
   "file_extension": ".py",
   "mimetype": "text/x-python",
   "name": "python",
   "nbconvert_exporter": "python",
   "pygments_lexer": "ipython3",
   "version": "3.9.6"
  },
  "interpreter": {
   "hash": "6cfb479d296579085f6091e5a7727a11121cc3d75e2d1140668cd117d8fd9ef1"
  }
 },
 "nbformat": 4,
 "nbformat_minor": 1
}
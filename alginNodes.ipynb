{
 "cells": [
  {
   "cell_type": "code",
   "execution_count": 1,
   "source": [
    "import json\n",
    "import networkx as nx\n",
    "import numpy as np\n",
    "import math\n",
    "from numpy.linalg import norm"
   ],
   "outputs": [],
   "metadata": {}
  },
  {
   "cell_type": "code",
   "execution_count": 2,
   "source": [
    "def readJson(path,nodeType):\n",
    "    G = []\n",
    "    nodes = []\n",
    "    f = open(path)\n",
    "    graph = json.load(f, parse_int=str)\n",
    "    count = 1\n",
    "    for node in graph['storeNodes']:\n",
    "        nodeId = nodeType + str(count)\n",
    "        nodePos = np.array([int(node['posX']),int(node['posY'])])\n",
    "        G.append([nodeId,nodePos])\n",
    "        nodes.append([nodeId,node['storeName']])\n",
    "        count += 1\n",
    "    return (G,nodes)"
   ],
   "outputs": [],
   "metadata": {}
  },
  {
   "cell_type": "code",
   "execution_count": 3,
   "source": [
    "sGraph, sNodes = readJson(\"./Jsons/S3.json\",\"S\")\n",
    "print('sGraph')\n",
    "print(sGraph)\n",
    "cGraph, cNodes = readJson(\"./Jsons/C3.json\",\"C\")\n",
    "print('cGraph')\n",
    "print(cGraph)"
   ],
   "outputs": [
    {
     "output_type": "stream",
     "name": "stdout",
     "text": [
      "sGraph\n",
      "[['S1', array([5, 2])], ['S2', array([10,  2])], ['S3', array([16,  4])], ['S4', array([16, 11])], ['S5', array([ 9, 13])], ['S6', array([7, 8])], ['S7', array([12,  8])], ['S8', array([3, 8])]]\n",
      "cGraph\n",
      "[['C1', array([5, 8])], ['C2', array([10, 11])], ['C3', array([14,  8])], ['C4', array([10,  5])]]\n"
     ]
    }
   ],
   "metadata": {}
  },
  {
   "cell_type": "code",
   "execution_count": 4,
   "source": [
    "def alignNodes(G):\n",
    "    i = 0\n",
    "    for nodeId_i, pos_i in G:\n",
    "        i += 1\n",
    "        for nodeId_j, pos_j in G[i:]:\n",
    "            for axis in range(2):\n",
    "                if(1 <= abs(pos_i[axis] - pos_j[axis]) < 2):\n",
    "                    pos_i[axis] = pos_j[axis] = (pos_i[axis] + pos_j[axis])/2\n",
    "    \n",
    "    i = 0\n",
    "    for nodeId_i, pos_i in G:\n",
    "        i += 1\n",
    "        for nodeId_j, pos_j in G[i:]:\n",
    "            for axis in range(2):\n",
    "                if(1 <= abs(pos_i[axis] - pos_j[axis]) < 2):\n",
    "                    pos_i[axis] = pos_j[axis] = int((pos_i[axis] + pos_j[axis])//2)\n",
    "    return G"
   ],
   "outputs": [],
   "metadata": {}
  },
  {
   "cell_type": "code",
   "execution_count": 5,
   "source": [
    "storeNodes = alignNodes(sGraph)\n",
    "print(\"storeNodes\")\n",
    "print(storeNodes)\n",
    "corridorNodes = alignNodes(cGraph)\n",
    "print(\"corridorNodes\")\n",
    "print(corridorNodes)"
   ],
   "outputs": [
    {
     "output_type": "stream",
     "name": "stdout",
     "text": [
      "storeNodes\n",
      "[['S1', array([5, 2])], ['S2', array([9, 2])], ['S3', array([16,  4])], ['S4', array([16, 11])], ['S5', array([ 9, 13])], ['S6', array([7, 8])], ['S7', array([12,  8])], ['S8', array([3, 8])]]\n",
      "corridorNodes\n",
      "[['C1', array([5, 8])], ['C2', array([10, 11])], ['C3', array([14,  8])], ['C4', array([10,  5])]]\n"
     ]
    }
   ],
   "metadata": {}
  },
  {
   "cell_type": "code",
   "execution_count": 6,
   "source": [
    "def getCorridors(G):\n",
    "    G = sorted(G,key=lambda x: x[1][0])\n",
    "    Corners = []\n",
    "    i = 0\n",
    "    for nodeId_i, pos_i in G:\n",
    "        i += 1\n",
    "        for nodeId_j, pos_j in G[i:]:\n",
    "            if(not(pos_i[0] == pos_j[0] or pos_i[1] == pos_j[1])):\n",
    "                if(not([pos_i[0],pos_j[1]] in Corners)):\n",
    "                    Corners.append([pos_i[0],pos_j[1]])\n",
    "                else: \n",
    "                    Corners.pop(Corners.index([pos_i[0],pos_j[1]]))\n",
    "\n",
    "                if(not([pos_j[0],pos_i[1]] in Corners)):\n",
    "                    Corners.append([pos_j[0],pos_i[1]])\n",
    "                else:\n",
    "                    Corners.pop(Corners.index([pos_j[0],pos_i[1]]))\n",
    "    corridorCorners = []\n",
    "    count = 1\n",
    "    for node in Corners:\n",
    "        cId = \"C\" + str(count)\n",
    "        corridorCorners.append([cId,np.array(node)])\n",
    "        count += 1\n",
    "\n",
    "    Corridors = []\n",
    "    for i in range(len(Corners)):\n",
    "            for j in range(i+1,len(Corners)):\n",
    "                if(Corners[i][0]==Corners[j][0]):\n",
    "                    Corridors.append([0,np.array(Corners[i]),np.array(Corners[j])])\n",
    "                if(Corners[i][1]==Corners[j][1]):\n",
    "                    Corridors.append([1,np.array(Corners[i]),np.array(Corners[j])])\n",
    "    return corridorCorners, Corridors"
   ],
   "outputs": [],
   "metadata": {}
  },
  {
   "cell_type": "code",
   "execution_count": 7,
   "source": [
    "corridorCorners, corridors= getCorridors(corridorNodes)\n",
    "print('corridorCorners')\n",
    "print(corridorCorners)\n",
    "print('corridors')\n",
    "print(corridors)"
   ],
   "outputs": [
    {
     "output_type": "stream",
     "name": "stdout",
     "text": [
      "corridorCorners\n",
      "[['C1', array([ 5, 11])], ['C2', array([5, 5])], ['C3', array([14, 11])], ['C4', array([14,  5])]]\n",
      "corridors\n",
      "[[0, array([ 5, 11]), array([5, 5])], [1, array([ 5, 11]), array([14, 11])], [1, array([5, 5]), array([14,  5])], [0, array([14, 11]), array([14,  5])]]\n"
     ]
    }
   ],
   "metadata": {}
  },
  {
   "cell_type": "code",
   "execution_count": 8,
   "source": [
    "# d = norm(np.cross(p2-p1, p1-p3))/norm(p2-p1)\n",
    "def getCorridorNodes(storeNodes,Corridors,CorridorNodes):\n",
    "    for sId,storeNode in storeNodes:\n",
    "        distance = [9999]\n",
    "        newNode = np.copy(storeNode)            \n",
    "        for [axis,p1,p2] in Corridors:\n",
    "            d = norm(np.cross(p2-p1, p1-storeNode))/norm(p2-p1)\n",
    "            if(distance[0] > d):\n",
    "                distance = [d,axis,p1]\n",
    "            if(d == 0):\n",
    "                if(norm(p1-storeNode)>norm(p2-storeNode)):\n",
    "                    newNode = np.copy(p2)\n",
    "                else:\n",
    "                    newNode = np.copy(p1)\n",
    "                break\n",
    "        newNode[distance[1]] = distance[2][distance[1]]\n",
    "        flag = 1\n",
    "        for cId ,cnode in CorridorNodes:\n",
    "            if(np.array_equal(newNode,cnode)):\n",
    "                flag = 0\n",
    "                break\n",
    "        if(flag):\n",
    "            cId = \"C\" + str(len(CorridorNodes) + 1)\n",
    "            CorridorNodes.append([cId,newNode])\n",
    "    return CorridorNodes"
   ],
   "outputs": [],
   "metadata": {}
  },
  {
   "cell_type": "code",
   "execution_count": 9,
   "source": [
    "corridorNodes = getCorridorNodes(storeNodes,corridors,corridorCorners.copy())\n",
    "for cnode in corridorNodes:\n",
    "    print(cnode)"
   ],
   "outputs": [
    {
     "output_type": "stream",
     "name": "stdout",
     "text": [
      "[['C1', array([ 5, 11])], ['C2', array([5, 5])], ['C3', array([14, 11])], ['C4', array([14,  5])], ['C5', array([9, 5])], ['C6', array([16,  5])], ['C7', array([ 9, 11])], ['C8', array([5, 8])], ['C9', array([14,  8])]]\n"
     ]
    }
   ],
   "metadata": {}
  },
  {
   "cell_type": "code",
   "execution_count": 10,
   "source": [
    "def eliminteExtraNodes(corridors,corridorNodes):\n",
    "    corridorNodes1 = []\n",
    "    for cId, p3 in corridorNodes:\n",
    "        line = [9999]\n",
    "        for axis, p1, p2 in corridors:\n",
    "            d = norm(np.cross(p2-p1, p1-p3))/norm(p2-p1)\n",
    "            if(line[-1]>d):\n",
    "                line = [axis,p1,p2,d]\n",
    "        p1 = line[2]\n",
    "        if(line[0]):\n",
    "            x1 = int(min(line[1][0],line[2][0]))\n",
    "            x2 = int(max(line[1][0],line[2][0])+1)\n",
    "            x3 = int(p3[0])\n",
    "            if(x3 in range(x1,x2)):\n",
    "                corridorNodes1.append([cId,p3])\n",
    "            # else:\n",
    "            #     print(cId,p3,line)\n",
    "        else:\n",
    "            y1 = int(min(line[1][1],line[2][1]))\n",
    "            y2 = int(max(line[1][1],line[2][1])+1)\n",
    "            y3 = int(p3[1])\n",
    "            if(y3 in range(y1,y2)):\n",
    "                corridorNodes1.append([cId,p3])\n",
    "            # else:\n",
    "            #     print(cId,p3,line)\n",
    "    return corridorNodes1\n"
   ],
   "outputs": [],
   "metadata": {}
  },
  {
   "cell_type": "code",
   "execution_count": 11,
   "source": [
    "corridorNodes = eliminteExtraNodes(corridors,corridorNodes)\n",
    "for cnode in corridorNodes:\n",
    "    print(cnode)"
   ],
   "outputs": [],
   "metadata": {}
  },
  {
   "cell_type": "code",
   "execution_count": 12,
   "source": [
    "def connectSNodes(corridorNodes,storeNodes):\n",
    "    edges = []\n",
    "    for sId, p1 in storeNodes:\n",
    "        distance = [9999]\n",
    "        for cId, p2 in corridorNodes:\n",
    "            # if((p1 == p2).any()):\n",
    "            d = int(norm(p2-p1))\n",
    "            if(distance[-1]>d):\n",
    "                distance = [sId,cId,p1,p2,d]\n",
    "            \n",
    "        edges.append(distance)\n",
    "    return edges"
   ],
   "outputs": [],
   "metadata": {}
  },
  {
   "cell_type": "code",
   "execution_count": 13,
   "source": [
    "sEdges = connectSNodes(corridorNodes,storeNodes)\n",
    "for edge in sEdges:\n",
    "    print(edge)"
   ],
   "outputs": [
    {
     "output_type": "stream",
     "name": "stdout",
     "text": [
      "['S1', 'C2', array([5, 2]), array([5, 5]), 3]\n",
      "['S2', 'C5', array([9, 2]), array([9, 5]), 3]\n",
      "['S3', 'C4', array([16,  4]), array([14,  5]), 2]\n",
      "['S4', 'C3', array([16, 11]), array([14, 11]), 2]\n",
      "['S5', 'C7', array([ 9, 13]), array([ 9, 11]), 2]\n",
      "['S6', 'C8', array([7, 8]), array([5, 8]), 2]\n",
      "['S7', 'C9', array([12,  8]), array([14,  8]), 2]\n",
      "['S8', 'C8', array([3, 8]), array([5, 8]), 2]\n"
     ]
    }
   ],
   "metadata": {}
  },
  {
   "cell_type": "code",
   "execution_count": 14,
   "source": [
    "def connectCNodes(corridorNodes):\n",
    "    edges = []\n",
    "    i = 0\n",
    "    for cId_i, p1 in corridorNodes:\n",
    "        # i += 1\n",
    "        distance = []\n",
    "        for cId_j, p2 in corridorNodes:\n",
    "            if((p1 == p2).any()):\n",
    "                d = int(norm(p2-p1))\n",
    "                distance.append([cId_i,cId_j,p1,p2,d])\n",
    "        distance = sorted(distance,key=lambda x: x[-1])\n",
    "        try:\n",
    "            edges.append(distance[1])\n",
    "            edges.append(distance[2])\n",
    "        except:\n",
    "            pass\n",
    "    return edges"
   ],
   "outputs": [],
   "metadata": {}
  },
  {
   "cell_type": "code",
   "execution_count": 15,
   "source": [
    "cEdges = connectCNodes(corridorNodes)\n",
    "for edge in cEdges:\n",
    "    print(edge)"
   ],
   "outputs": [
    {
     "output_type": "stream",
     "name": "stdout",
     "text": [
      "['C1', 'C8', array([ 5, 11]), array([5, 8]), 3]\n",
      "['C1', 'C7', array([ 5, 11]), array([ 9, 11]), 4]\n",
      "['C2', 'C8', array([5, 5]), array([5, 8]), 3]\n",
      "['C2', 'C5', array([5, 5]), array([9, 5]), 4]\n",
      "['C3', 'C9', array([14, 11]), array([14,  8]), 3]\n",
      "['C3', 'C7', array([14, 11]), array([ 9, 11]), 5]\n",
      "['C4', 'C9', array([14,  5]), array([14,  8]), 3]\n",
      "['C4', 'C5', array([14,  5]), array([9, 5]), 5]\n",
      "['C5', 'C2', array([9, 5]), array([5, 5]), 4]\n",
      "['C5', 'C4', array([9, 5]), array([14,  5]), 5]\n",
      "['C7', 'C1', array([ 9, 11]), array([ 5, 11]), 4]\n",
      "['C7', 'C3', array([ 9, 11]), array([14, 11]), 5]\n",
      "['C8', 'C1', array([5, 8]), array([ 5, 11]), 3]\n",
      "['C8', 'C2', array([5, 8]), array([5, 5]), 3]\n",
      "['C9', 'C3', array([14,  8]), array([14, 11]), 3]\n",
      "['C9', 'C4', array([14,  8]), array([14,  5]), 3]\n"
     ]
    }
   ],
   "metadata": {}
  },
  {
   "cell_type": "code",
   "execution_count": 16,
   "source": [
    "print('allNodes')\n",
    "allNodes = storeNodes.copy()\n",
    "allNodes += corridorNodes\n",
    "for node in allNodes:\n",
    "    print(node)\n",
    "\n",
    "print('allEdges')\n",
    "allEdges = sEdges.copy()\n",
    "allEdges += cEdges\n",
    "for edge in allEdges:\n",
    "    print(edge)"
   ],
   "outputs": [
    {
     "output_type": "stream",
     "name": "stdout",
     "text": [
      "allNodes\n",
      "['S1', array([5, 2])]\n",
      "['S2', array([9, 2])]\n",
      "['S3', array([16,  4])]\n",
      "['S4', array([16, 11])]\n",
      "['S5', array([ 9, 13])]\n",
      "['S6', array([7, 8])]\n",
      "['S7', array([12,  8])]\n",
      "['S8', array([3, 8])]\n",
      "['C1', array([ 5, 11])]\n",
      "['C2', array([5, 5])]\n",
      "['C3', array([14, 11])]\n",
      "['C4', array([14,  5])]\n",
      "['C5', array([9, 5])]\n",
      "['C7', array([ 9, 11])]\n",
      "['C8', array([5, 8])]\n",
      "['C9', array([14,  8])]\n",
      "allEdges\n",
      "['S1', 'C2', array([5, 2]), array([5, 5]), 3]\n",
      "['S2', 'C5', array([9, 2]), array([9, 5]), 3]\n",
      "['S3', 'C4', array([16,  4]), array([14,  5]), 2]\n",
      "['S4', 'C3', array([16, 11]), array([14, 11]), 2]\n",
      "['S5', 'C7', array([ 9, 13]), array([ 9, 11]), 2]\n",
      "['S6', 'C8', array([7, 8]), array([5, 8]), 2]\n",
      "['S7', 'C9', array([12,  8]), array([14,  8]), 2]\n",
      "['S8', 'C8', array([3, 8]), array([5, 8]), 2]\n",
      "['C1', 'C8', array([ 5, 11]), array([5, 8]), 3]\n",
      "['C1', 'C7', array([ 5, 11]), array([ 9, 11]), 4]\n",
      "['C2', 'C8', array([5, 5]), array([5, 8]), 3]\n",
      "['C2', 'C5', array([5, 5]), array([9, 5]), 4]\n",
      "['C3', 'C9', array([14, 11]), array([14,  8]), 3]\n",
      "['C3', 'C7', array([14, 11]), array([ 9, 11]), 5]\n",
      "['C4', 'C9', array([14,  5]), array([14,  8]), 3]\n",
      "['C4', 'C5', array([14,  5]), array([9, 5]), 5]\n",
      "['C5', 'C2', array([9, 5]), array([5, 5]), 4]\n",
      "['C5', 'C4', array([9, 5]), array([14,  5]), 5]\n",
      "['C7', 'C1', array([ 9, 11]), array([ 5, 11]), 4]\n",
      "['C7', 'C3', array([ 9, 11]), array([14, 11]), 5]\n",
      "['C8', 'C1', array([5, 8]), array([ 5, 11]), 3]\n",
      "['C8', 'C2', array([5, 8]), array([5, 5]), 3]\n",
      "['C9', 'C3', array([14,  8]), array([14, 11]), 3]\n",
      "['C9', 'C4', array([14,  8]), array([14,  5]), 3]\n"
     ]
    }
   ],
   "metadata": {}
  },
  {
   "cell_type": "code",
   "execution_count": 17,
   "source": [
    "def createGraph(nodes,edges):\n",
    "    G = nx.Graph()\n",
    "    for [id, pos] in nodes:\n",
    "        G.add_node(id,\n",
    "                   storeName = id,\n",
    "                   position = (pos[0],-pos[1]))\n",
    "    \n",
    "    for [id1, id2, p1, p2, d]  in edges:\n",
    "        G.add_edge(id1,id2,weight = d)\n",
    "    return G\n",
    "def showGraph(G):\n",
    "    pos = {}\n",
    "    for node in G.nodes(data = True):\n",
    "        print(node)\n",
    "        pos[node[0]] = [int(p) for p in node[1]['position'][0:2]]\n",
    "    nx.draw_networkx(G, pos = pos)"
   ],
   "outputs": [],
   "metadata": {}
  },
  {
   "cell_type": "code",
   "execution_count": 18,
   "source": [
    "# G = createGraph(storeNodes,sEdges)\n",
    "# showGraph(G)"
   ],
   "outputs": [],
   "metadata": {}
  },
  {
   "cell_type": "code",
   "execution_count": 19,
   "source": [
    "G = createGraph(corridorNodes,cEdges)\n",
    "showGraph(G)"
   ],
   "outputs": [
    {
     "output_type": "stream",
     "name": "stdout",
     "text": [
      "('C1', {'storeName': 'C1', 'position': (5, -11)})\n",
      "('C2', {'storeName': 'C2', 'position': (5, -5)})\n",
      "('C3', {'storeName': 'C3', 'position': (14, -11)})\n",
      "('C4', {'storeName': 'C4', 'position': (14, -5)})\n",
      "('C5', {'storeName': 'C5', 'position': (9, -5)})\n",
      "('C7', {'storeName': 'C7', 'position': (9, -11)})\n",
      "('C8', {'storeName': 'C8', 'position': (5, -8)})\n",
      "('C9', {'storeName': 'C9', 'position': (14, -8)})\n"
     ]
    },
    {
     "output_type": "display_data",
     "data": {
      "text/plain": [
       "<Figure size 432x288 with 1 Axes>"
      ],
      "image/png": "[encoded data removed]"
     },
     "metadata": {}
    }
   ],
   "metadata": {}
  },
  {
   "cell_type": "code",
   "execution_count": 20,
   "source": [
    "G = createGraph(allNodes,allEdges)\n",
    "showGraph(G)"
   ],
   "outputs": [
    {
     "output_type": "stream",
     "name": "stdout",
     "text": [
      "('S1', {'storeName': 'S1', 'position': (5, -2)})\n",
      "('S2', {'storeName': 'S2', 'position': (9, -2)})\n",
      "('S3', {'storeName': 'S3', 'position': (16, -4)})\n",
      "('S4', {'storeName': 'S4', 'position': (16, -11)})\n",
      "('S5', {'storeName': 'S5', 'position': (9, -13)})\n",
      "('S6', {'storeName': 'S6', 'position': (7, -8)})\n",
      "('S7', {'storeName': 'S7', 'position': (12, -8)})\n",
      "('S8', {'storeName': 'S8', 'position': (3, -8)})\n",
      "('C1', {'storeName': 'C1', 'position': (5, -11)})\n",
      "('C2', {'storeName': 'C2', 'position': (5, -5)})\n",
      "('C3', {'storeName': 'C3', 'position': (14, -11)})\n",
      "('C4', {'storeName': 'C4', 'position': (14, -5)})\n",
      "('C5', {'storeName': 'C5', 'position': (9, -5)})\n",
      "('C7', {'storeName': 'C7', 'position': (9, -11)})\n",
      "('C8', {'storeName': 'C8', 'position': (5, -8)})\n",
      "('C9', {'storeName': 'C9', 'position': (14, -8)})\n"
     ]
    },
    {
     "output_type": "display_data",
     "data": {
      "text/plain": [
       "<Figure size 432x288 with 1 Axes>"
      ],
      "image/png": "[encoded data removed]"
     },
     "metadata": {}
    }
   ],
   "metadata": {}
  }
 ],
 "metadata": {
  "kernelspec": {
   "name": "python3",
   "display_name": "Python 3.9.6 64-bit"
  },
  "language_info": {
   "codemirror_mode": {
    "name": "ipython",
    "version": 3
   },
   "file_extension": ".py",
   "mimetype": "text/x-python",
   "name": "python",
   "nbconvert_exporter": "python",
   "pygments_lexer": "ipython3",
   "version": "3.9.6"
  },
  "interpreter": {
   "hash": "949777d72b0d2535278d3dc13498b2535136f6dfe0678499012e853ee9abcab1"
  }
 },
 "nbformat": 4,
 "nbformat_minor": 1
}
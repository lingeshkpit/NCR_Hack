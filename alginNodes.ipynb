{
 "cells": [
  {
   "cell_type": "code",
   "execution_count": 1,
   "source": [
    "import json\n",
    "import networkx as nx\n",
    "import numpy as np\n",
    "import math\n",
    "from numpy.linalg import norm"
   ],
   "outputs": [],
   "metadata": {}
  },
  {
   "cell_type": "code",
   "execution_count": 2,
   "source": [
    "def readJson(path,nodeType):\n",
    "    G = []\n",
    "    nodes = []\n",
    "    f = open(path)\n",
    "    graph = json.load(f, parse_int=str)\n",
    "    count = 1\n",
    "    for node in graph['storeNodes']:\n",
    "        nodeId = nodeType + str(count)\n",
    "        nodePos = np.array([int(node['posX']),int(node['posY'])])\n",
    "        G.append([nodeId,nodePos])\n",
    "        nodes.append([nodeId,node['storeName']])\n",
    "        count += 1\n",
    "    return (G,nodes)"
   ],
   "outputs": [],
   "metadata": {}
  },
  {
   "cell_type": "code",
   "execution_count": 3,
   "source": [
    "sGraph, sNodes = readJson(\"./Jsons/S3.json\",\"S\")\n",
    "print('sGraph')\n",
    "print(sGraph)\n",
    "cGraph, cNodes = readJson(\"./Jsons/C3.json\",\"C\")\n",
    "print('cGraph')\n",
    "print(cGraph)"
   ],
   "outputs": [
    {
     "output_type": "stream",
     "name": "stdout",
     "text": [
      "sGraph\n",
      "[['S1', array([7, 4])], ['S2', array([12,  4])], ['S3', array([17,  4])], ['S4', array([36,  9])], ['S5', array([36, 16])], ['S6', array([33, 25])], ['S7', array([21, 25])], ['S8', array([10, 25])], ['S9', array([ 3, 22])], ['S10', array([ 3, 15])], ['S11', array([3, 8])], ['S12', array([12, 15])], ['S13', array([19, 13])], ['S14', array([27, 13])], ['S15', array([27, 17])], ['S16', array([20, 17])]]\n",
      "cGraph\n",
      "[['C1', array([19,  7])], ['C2', array([ 7, 13])], ['C3', array([20, 21])], ['C4', array([32, 14])]]\n"
     ]
    }
   ],
   "metadata": {}
  },
  {
   "cell_type": "code",
   "execution_count": 4,
   "source": [
    "def alignNodes(G):\n",
    "    i = 0\n",
    "    for nodeId_i, pos_i in G:\n",
    "        i += 1\n",
    "        for nodeId_j, pos_j in G[i:]:\n",
    "            for axis in range(2):\n",
    "                if(1 <= abs(pos_i[axis] - pos_j[axis]) < 2):\n",
    "                    pos_i[axis] = pos_j[axis] = (pos_i[axis] + pos_j[axis])/2\n",
    "    \n",
    "    i = 0\n",
    "    for nodeId_i, pos_i in G:\n",
    "        i += 1\n",
    "        for nodeId_j, pos_j in G[i:]:\n",
    "            for axis in range(2):\n",
    "                if(1 <= abs(pos_i[axis] - pos_j[axis]) < 2):\n",
    "                    pos_i[axis] = pos_j[axis] = int((pos_i[axis] + pos_j[axis])//2)\n",
    "    return G"
   ],
   "outputs": [],
   "metadata": {}
  },
  {
   "cell_type": "code",
   "execution_count": 5,
   "source": [
    "storeNodes = alignNodes(sGraph)\n",
    "print(\"storeNodes\")\n",
    "print(storeNodes)\n",
    "corridorNodes = alignNodes(cGraph)\n",
    "print(\"corridorNodes\")\n",
    "print(corridorNodes)"
   ],
   "outputs": [
    {
     "output_type": "stream",
     "name": "stdout",
     "text": [
      "storeNodes\n",
      "[['S1', array([7, 4])], ['S2', array([12,  4])], ['S3', array([17,  4])], ['S4', array([36,  8])], ['S5', array([36, 15])], ['S6', array([33, 25])], ['S7', array([19, 25])], ['S8', array([10, 25])], ['S9', array([ 3, 22])], ['S10', array([ 3, 15])], ['S11', array([3, 8])], ['S12', array([12, 15])], ['S13', array([19, 13])], ['S14', array([27, 13])], ['S15', array([27, 17])], ['S16', array([19, 17])]]\n",
      "corridorNodes\n",
      "[['C1', array([19,  7])], ['C2', array([ 7, 13])], ['C3', array([19, 21])], ['C4', array([32, 13])]]\n"
     ]
    }
   ],
   "metadata": {}
  },
  {
   "cell_type": "code",
   "execution_count": 6,
   "source": [
    "def getCorridors(G):\n",
    "    G = sorted(G,key=lambda x: x[1][0])\n",
    "    Corners = []\n",
    "    i = 0\n",
    "    for nodeId_i, pos_i in G:\n",
    "        i += 1\n",
    "        for nodeId_j, pos_j in G[i:]:\n",
    "            if(not(pos_i[0] == pos_j[0] or pos_i[1] == pos_j[1])):\n",
    "                if(not([pos_i[0],pos_j[1]] in Corners)):\n",
    "                    Corners.append([pos_i[0],pos_j[1]])\n",
    "                else: \n",
    "                    Corners.pop(Corners.index([pos_i[0],pos_j[1]]))\n",
    "\n",
    "                if(not([pos_j[0],pos_i[1]] in Corners)):\n",
    "                    Corners.append([pos_j[0],pos_i[1]])\n",
    "                else:\n",
    "                    Corners.pop(Corners.index([pos_j[0],pos_i[1]]))\n",
    "    corridorCorners = []\n",
    "    count = 1\n",
    "    for node in Corners:\n",
    "        cId = \"C\" + str(count)\n",
    "        corridorCorners.append([cId,np.array(node)])\n",
    "        count += 1\n",
    "\n",
    "    Corridors = []\n",
    "    for i in range(len(Corners)):\n",
    "            for j in range(i+1,len(Corners)):\n",
    "                if(Corners[i][0]==Corners[j][0]):\n",
    "                    Corridors.append([0,np.array(Corners[i]),np.array(Corners[j])])\n",
    "                if(Corners[i][1]==Corners[j][1]):\n",
    "                    Corridors.append([1,np.array(Corners[i]),np.array(Corners[j])])\n",
    "    return corridorCorners, Corridors"
   ],
   "outputs": [],
   "metadata": {}
  },
  {
   "cell_type": "code",
   "execution_count": 7,
   "source": [
    "corridorCorners, corridors= getCorridors(corridorNodes)\n",
    "print('corridorCorners')\n",
    "print(corridorCorners)\n",
    "print('corridors')\n",
    "print(corridors)"
   ],
   "outputs": [
    {
     "output_type": "stream",
     "name": "stdout",
     "text": [
      "corridorCorners\n",
      "[['C1', array([7, 7])], ['C2', array([ 7, 21])], ['C3', array([32,  7])], ['C4', array([32, 21])]]\n",
      "corridors\n",
      "[[0, array([7, 7]), array([ 7, 21])], [1, array([7, 7]), array([32,  7])], [1, array([ 7, 21]), array([32, 21])], [0, array([32,  7]), array([32, 21])]]\n"
     ]
    }
   ],
   "metadata": {}
  },
  {
   "cell_type": "code",
   "execution_count": 8,
   "source": [
    "# d = norm(np.cross(p2-p1, p1-p3))/norm(p2-p1)\n",
    "def getCorridorNodes(storeNodes,Corridors,CorridorNodes):\n",
    "    for sId,storeNode in storeNodes:\n",
    "        distance = [9999]\n",
    "        newNode = np.copy(storeNode)            \n",
    "        for [axis,p1,p2] in Corridors:\n",
    "            d = norm(np.cross(p2-p1, p1-storeNode))/norm(p2-p1)\n",
    "            if(distance[0] > d):\n",
    "                distance = [d,axis,p1]\n",
    "            if(d == 0):\n",
    "                if(norm(p1-storeNode)>norm(p2-storeNode)):\n",
    "                    newNode = np.copy(p2)\n",
    "                else:\n",
    "                    newNode = np.copy(p1)\n",
    "                break\n",
    "        newNode[distance[1]] = distance[2][distance[1]]\n",
    "        flag = 1\n",
    "        for cId ,cnode in CorridorNodes:\n",
    "            if(np.array_equal(newNode,cnode)):\n",
    "                flag = 0\n",
    "                break\n",
    "        if(flag):\n",
    "            cId = \"C\" + str(len(CorridorNodes) + 1)\n",
    "            CorridorNodes.append([cId,newNode])\n",
    "    return CorridorNodes"
   ],
   "outputs": [],
   "metadata": {}
  },
  {
   "cell_type": "code",
   "execution_count": 9,
   "source": [
    "corridorNodes = corridorCorners.copy()\n",
    "corridorNodes = getCorridorNodes(storeNodes,corridors,corridorNodes)\n",
    "print(corridorNodes)"
   ],
   "outputs": [
    {
     "output_type": "stream",
     "name": "stdout",
     "text": [
      "[['C1', array([7, 7])], ['C2', array([ 7, 21])], ['C3', array([32,  7])], ['C4', array([32, 21])], ['C5', array([12,  7])], ['C6', array([17,  7])], ['C7', array([36,  7])], ['C8', array([32, 15])], ['C9', array([32, 25])], ['C10', array([19, 21])], ['C11', array([ 7, 25])], ['C12', array([ 3, 21])], ['C13', array([ 7, 15])], ['C14', array([3, 7])], ['C15', array([19,  7])], ['C16', array([32, 13])], ['C17', array([27, 21])]]\n"
     ]
    }
   ],
   "metadata": {}
  },
  {
   "cell_type": "code",
   "execution_count": 10,
   "source": [
    "def connectSNodes(corridorNodes,storeNodes):\n",
    "    edges = []\n",
    "    for sId, p1 in storeNodes:\n",
    "        distance = [9999]\n",
    "        for cId, p2 in corridorNodes:\n",
    "            if((p1 == p2).any()):\n",
    "                d = int(norm(p2-p1))\n",
    "                if(distance[-1]>d):\n",
    "                    distance = [sId,cId,p1,p2,d]\n",
    "        edges.append(distance)\n",
    "    return edges"
   ],
   "outputs": [],
   "metadata": {}
  },
  {
   "cell_type": "code",
   "execution_count": 11,
   "source": [
    "sEdges = connectSNodes(corridorNodes,storeNodes)\n",
    "for edge in sEdges:\n",
    "    print(edge)"
   ],
   "outputs": [
    {
     "output_type": "stream",
     "name": "stdout",
     "text": [
      "['S1', 'C1', array([7, 4]), array([7, 7]), 3]\n",
      "['S2', 'C5', array([12,  4]), array([12,  7]), 3]\n",
      "['S3', 'C6', array([17,  4]), array([17,  7]), 3]\n",
      "['S4', 'C7', array([36,  8]), array([36,  7]), 1]\n",
      "['S5', 'C8', array([36, 15]), array([32, 15]), 4]\n",
      "['S6', 'C9', array([33, 25]), array([32, 25]), 1]\n",
      "['S7', 'C10', array([19, 25]), array([19, 21]), 4]\n",
      "['S8', 'C11', array([10, 25]), array([ 7, 25]), 3]\n",
      "['S9', 'C12', array([ 3, 22]), array([ 3, 21]), 1]\n",
      "['S10', 'C13', array([ 3, 15]), array([ 7, 15]), 4]\n",
      "['S11', 'C14', array([3, 8]), array([3, 7]), 1]\n",
      "['S12', 'C13', array([12, 15]), array([ 7, 15]), 5]\n",
      "['S13', 'C15', array([19, 13]), array([19,  7]), 6]\n",
      "['S14', 'C16', array([27, 13]), array([32, 13]), 5]\n",
      "['S15', 'C17', array([27, 17]), array([27, 21]), 4]\n",
      "['S16', 'C10', array([19, 17]), array([19, 21]), 4]\n"
     ]
    }
   ],
   "metadata": {}
  },
  {
   "cell_type": "code",
   "execution_count": 12,
   "source": [
    "def connectCNodes(corridorNodes):\n",
    "    edges = []\n",
    "    i = 0\n",
    "    for cId_i, p1 in corridorNodes:\n",
    "        # i += 1\n",
    "        distance = []\n",
    "        for cId_j, p2 in corridorNodes:\n",
    "            if((p1 == p2).any()):\n",
    "                d = int(norm(p2-p1))\n",
    "                distance.append([cId_i,cId_j,p1,p2,d])\n",
    "        distance = sorted(distance,key=lambda x: x[-1])\n",
    "        try:\n",
    "            edges.append(distance[1])\n",
    "            edges.append(distance[2])\n",
    "        except:\n",
    "            pass\n",
    "    return edges"
   ],
   "outputs": [],
   "metadata": {}
  },
  {
   "cell_type": "code",
   "execution_count": 13,
   "source": [
    "cEdges = connectCNodes(corridorNodes)\n",
    "for edge in cEdges:\n",
    "    print(edge)"
   ],
   "outputs": [
    {
     "output_type": "stream",
     "name": "stdout",
     "text": [
      "['C1', 'C14', array([7, 7]), array([3, 7]), 4]\n",
      "['C1', 'C5', array([7, 7]), array([12,  7]), 5]\n",
      "['C2', 'C11', array([ 7, 21]), array([ 7, 25]), 4]\n",
      "['C2', 'C12', array([ 7, 21]), array([ 3, 21]), 4]\n",
      "['C3', 'C7', array([32,  7]), array([36,  7]), 4]\n",
      "['C3', 'C16', array([32,  7]), array([32, 13]), 6]\n",
      "['C4', 'C9', array([32, 21]), array([32, 25]), 4]\n",
      "['C4', 'C17', array([32, 21]), array([27, 21]), 5]\n",
      "['C5', 'C1', array([12,  7]), array([7, 7]), 5]\n",
      "['C5', 'C6', array([12,  7]), array([17,  7]), 5]\n",
      "['C6', 'C15', array([17,  7]), array([19,  7]), 2]\n",
      "['C6', 'C5', array([17,  7]), array([12,  7]), 5]\n",
      "['C7', 'C3', array([36,  7]), array([32,  7]), 4]\n",
      "['C7', 'C15', array([36,  7]), array([19,  7]), 17]\n",
      "['C8', 'C16', array([32, 15]), array([32, 13]), 2]\n",
      "['C8', 'C4', array([32, 15]), array([32, 21]), 6]\n",
      "['C9', 'C4', array([32, 25]), array([32, 21]), 4]\n",
      "['C9', 'C8', array([32, 25]), array([32, 15]), 10]\n",
      "['C10', 'C17', array([19, 21]), array([27, 21]), 8]\n",
      "['C10', 'C2', array([19, 21]), array([ 7, 21]), 12]\n",
      "['C11', 'C2', array([ 7, 25]), array([ 7, 21]), 4]\n",
      "['C11', 'C13', array([ 7, 25]), array([ 7, 15]), 10]\n",
      "['C12', 'C2', array([ 3, 21]), array([ 7, 21]), 4]\n",
      "['C12', 'C14', array([ 3, 21]), array([3, 7]), 14]\n",
      "['C13', 'C2', array([ 7, 15]), array([ 7, 21]), 6]\n",
      "['C13', 'C1', array([ 7, 15]), array([7, 7]), 8]\n",
      "['C14', 'C1', array([3, 7]), array([7, 7]), 4]\n",
      "['C14', 'C5', array([3, 7]), array([12,  7]), 9]\n",
      "['C15', 'C6', array([19,  7]), array([17,  7]), 2]\n",
      "['C15', 'C5', array([19,  7]), array([12,  7]), 7]\n",
      "['C16', 'C8', array([32, 13]), array([32, 15]), 2]\n",
      "['C16', 'C3', array([32, 13]), array([32,  7]), 6]\n",
      "['C17', 'C4', array([27, 21]), array([32, 21]), 5]\n",
      "['C17', 'C10', array([27, 21]), array([19, 21]), 8]\n"
     ]
    }
   ],
   "metadata": {}
  },
  {
   "cell_type": "code",
   "execution_count": 14,
   "source": [
    "print('allNodes')\n",
    "allNodes = storeNodes.copy()\n",
    "allNodes += corridorNodes\n",
    "# for node in allNodes:\n",
    "#     print(node)\n",
    "\n",
    "print('allEdges')\n",
    "allEdges = sEdges.copy()\n",
    "allEdges += cEdges\n",
    "# for edge in allEdges:\n",
    "#     print(edge)"
   ],
   "outputs": [
    {
     "output_type": "stream",
     "name": "stdout",
     "text": [
      "allNodes\n",
      "allEdges\n"
     ]
    }
   ],
   "metadata": {}
  },
  {
   "cell_type": "code",
   "execution_count": 15,
   "source": [
    "def createGraph(nodes,edges):\n",
    "    G = nx.Graph()\n",
    "    for [id, pos] in nodes:\n",
    "        G.add_node(id,\n",
    "                   storeName = id,\n",
    "                   position = (pos[0],-pos[1]))\n",
    "    \n",
    "    for [id1, id2, p1, p2, d]  in edges:\n",
    "        G.add_edge(id1,id2,weight = d)\n",
    "    return G\n",
    "def showGraph(G):\n",
    "    pos = {}\n",
    "    for node in G.nodes(data = True):\n",
    "        print(node)\n",
    "        pos[node[0]] = [int(p) for p in node[1]['position'][0:2]]\n",
    "    nx.draw_networkx(G, pos = pos)"
   ],
   "outputs": [],
   "metadata": {}
  },
  {
   "cell_type": "code",
   "execution_count": 16,
   "source": [
    "# G = createGraph(storeNodes,sEdges)\n",
    "# showGraph(G)"
   ],
   "outputs": [],
   "metadata": {}
  },
  {
   "cell_type": "code",
   "execution_count": 17,
   "source": [
    "G = createGraph(corridorNodes,cEdges)\n",
    "showGraph(G)"
   ],
   "outputs": [
    {
     "output_type": "stream",
     "name": "stdout",
     "text": [
      "('C1', {'storeName': 'C1', 'position': (7, -7)})\n",
      "('C2', {'storeName': 'C2', 'position': (7, -21)})\n",
      "('C3', {'storeName': 'C3', 'position': (32, -7)})\n",
      "('C4', {'storeName': 'C4', 'position': (32, -21)})\n",
      "('C5', {'storeName': 'C5', 'position': (12, -7)})\n",
      "('C6', {'storeName': 'C6', 'position': (17, -7)})\n",
      "('C7', {'storeName': 'C7', 'position': (36, -7)})\n",
      "('C8', {'storeName': 'C8', 'position': (32, -15)})\n",
      "('C9', {'storeName': 'C9', 'position': (32, -25)})\n",
      "('C10', {'storeName': 'C10', 'position': (19, -21)})\n",
      "('C11', {'storeName': 'C11', 'position': (7, -25)})\n",
      "('C12', {'storeName': 'C12', 'position': (3, -21)})\n",
      "('C13', {'storeName': 'C13', 'position': (7, -15)})\n",
      "('C14', {'storeName': 'C14', 'position': (3, -7)})\n",
      "('C15', {'storeName': 'C15', 'position': (19, -7)})\n",
      "('C16', {'storeName': 'C16', 'position': (32, -13)})\n",
      "('C17', {'storeName': 'C17', 'position': (27, -21)})\n"
     ]
    },
    {
     "output_type": "display_data",
     "data": {
      "text/plain": [
       "<Figure size 432x288 with 1 Axes>"
      ],
      "image/png": "[encoded data removed]"
     },
     "metadata": {}
    }
   ],
   "metadata": {}
  },
  {
   "cell_type": "code",
   "execution_count": 18,
   "source": [
    "G = createGraph(allNodes,allEdges)\n",
    "showGraph(G)"
   ],
   "outputs": [
    {
     "output_type": "stream",
     "name": "stdout",
     "text": [
      "('S1', {'storeName': 'S1', 'position': (7, -4)})\n",
      "('S2', {'storeName': 'S2', 'position': (12, -4)})\n",
      "('S3', {'storeName': 'S3', 'position': (17, -4)})\n",
      "('S4', {'storeName': 'S4', 'position': (36, -8)})\n",
      "('S5', {'storeName': 'S5', 'position': (36, -15)})\n",
      "('S6', {'storeName': 'S6', 'position': (33, -25)})\n",
      "('S7', {'storeName': 'S7', 'position': (19, -25)})\n",
      "('S8', {'storeName': 'S8', 'position': (10, -25)})\n",
      "('S9', {'storeName': 'S9', 'position': (3, -22)})\n",
      "('S10', {'storeName': 'S10', 'position': (3, -15)})\n",
      "('S11', {'storeName': 'S11', 'position': (3, -8)})\n",
      "('S12', {'storeName': 'S12', 'position': (12, -15)})\n",
      "('S13', {'storeName': 'S13', 'position': (19, -13)})\n",
      "('S14', {'storeName': 'S14', 'position': (27, -13)})\n",
      "('S15', {'storeName': 'S15', 'position': (27, -17)})\n",
      "('S16', {'storeName': 'S16', 'position': (19, -17)})\n",
      "('C1', {'storeName': 'C1', 'position': (7, -7)})\n",
      "('C2', {'storeName': 'C2', 'position': (7, -21)})\n",
      "('C3', {'storeName': 'C3', 'position': (32, -7)})\n",
      "('C4', {'storeName': 'C4', 'position': (32, -21)})\n",
      "('C5', {'storeName': 'C5', 'position': (12, -7)})\n",
      "('C6', {'storeName': 'C6', 'position': (17, -7)})\n",
      "('C7', {'storeName': 'C7', 'position': (36, -7)})\n",
      "('C8', {'storeName': 'C8', 'position': (32, -15)})\n",
      "('C9', {'storeName': 'C9', 'position': (32, -25)})\n",
      "('C10', {'storeName': 'C10', 'position': (19, -21)})\n",
      "('C11', {'storeName': 'C11', 'position': (7, -25)})\n",
      "('C12', {'storeName': 'C12', 'position': (3, -21)})\n",
      "('C13', {'storeName': 'C13', 'position': (7, -15)})\n",
      "('C14', {'storeName': 'C14', 'position': (3, -7)})\n",
      "('C15', {'storeName': 'C15', 'position': (19, -7)})\n",
      "('C16', {'storeName': 'C16', 'position': (32, -13)})\n",
      "('C17', {'storeName': 'C17', 'position': (27, -21)})\n"
     ]
    },
    {
     "output_type": "display_data",
     "data": {
      "text/plain": [
       "<Figure size 432x288 with 1 Axes>"
      ],
      "image/png": "[encoded data removed]"
     },
     "metadata": {}
    }
   ],
   "metadata": {}
  }
 ],
 "metadata": {
  "kernelspec": {
   "name": "python3",
   "display_name": "Python 3.9.6 64-bit"
  },
  "language_info": {
   "codemirror_mode": {
    "name": "ipython",
    "version": 3
   },
   "file_extension": ".py",
   "mimetype": "text/x-python",
   "name": "python",
   "nbconvert_exporter": "python",
   "pygments_lexer": "ipython3",
   "version": "3.9.6"
  },
  "interpreter": {
   "hash": "949777d72b0d2535278d3dc13498b2535136f6dfe0678499012e853ee9abcab1"
  }
 },
 "nbformat": 4,
 "nbformat_minor": 1
}
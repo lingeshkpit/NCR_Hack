{
 "cells": [
  {
   "cell_type": "code",
   "execution_count": 1,
   "source": [
    "import json\r\n",
    "import networkx as nx\r\n",
    "import numpy as np\r\n",
    "import math\r\n",
    "from numpy.linalg import norm"
   ],
   "outputs": [],
   "metadata": {}
  },
  {
   "cell_type": "code",
   "execution_count": 2,
   "source": [
    "def readJson(path,nodeType):\r\n",
    "    G = []\r\n",
    "    nodes = []\r\n",
    "    f = open(path)\r\n",
    "    graph = json.load(f, parse_int=str)\r\n",
    "    count = 1\r\n",
    "    for node in graph['storeNodes']:\r\n",
    "        nodeId = nodeType + str(count)\r\n",
    "        nodePos = np.array([int(node['posX']),int(node['posY'])])\r\n",
    "        G.append([nodeId,nodePos])\r\n",
    "        nodes.append([nodeId,node['storeName']])\r\n",
    "        count += 1\r\n",
    "    return (G,nodes)"
   ],
   "outputs": [],
   "metadata": {}
  },
  {
   "cell_type": "code",
   "execution_count": 3,
   "source": [
    "sGraph, sNodes = readJson(\"./Jsons/S1.json\",\"S\")\r\n",
    "print('sGraph')\r\n",
    "print(sGraph)\r\n",
    "cGraph, cNodes = readJson(\"./Jsons/C1.json\",\"C\")\r\n",
    "print('cGraph')\r\n",
    "print(cGraph)"
   ],
   "outputs": [
    {
     "output_type": "stream",
     "name": "stdout",
     "text": [
      "sGraph\n",
      "[['S1', array([7, 4])], ['S2', array([12,  4])], ['S3', array([17,  4])], ['S4', array([36,  9])], ['S5', array([36, 16])], ['S6', array([33, 25])], ['S7', array([21, 25])], ['S8', array([10, 25])], ['S9', array([ 3, 22])], ['S10', array([ 3, 15])], ['S11', array([3, 8])], ['S12', array([12, 15])], ['S13', array([19, 13])], ['S14', array([27, 13])], ['S15', array([27, 17])], ['S16', array([20, 17])]]\n",
      "cGraph\n",
      "[['C1', array([19,  7])], ['C2', array([ 7, 13])], ['C3', array([20, 21])], ['C4', array([32, 14])]]\n"
     ]
    }
   ],
   "metadata": {}
  },
  {
   "cell_type": "code",
   "execution_count": 4,
   "source": [
    "def alignNodes(G):\r\n",
    "    i = 0\r\n",
    "    for nodeId_i, pos_i in G:\r\n",
    "        i += 1\r\n",
    "        for nodeId_j, pos_j in G[i:]:\r\n",
    "            for axis in range(2):\r\n",
    "                if(1 <= abs(pos_i[axis] - pos_j[axis]) < 2):\r\n",
    "                    pos_i[axis] = pos_j[axis] = (pos_i[axis] + pos_j[axis])/2\r\n",
    "    \r\n",
    "    i = 0\r\n",
    "    for nodeId_i, pos_i in G:\r\n",
    "        i += 1\r\n",
    "        for nodeId_j, pos_j in G[i:]:\r\n",
    "            for axis in range(2):\r\n",
    "                if(1 <= abs(pos_i[axis] - pos_j[axis]) < 2):\r\n",
    "                    pos_i[axis] = pos_j[axis] = int((pos_i[axis] + pos_j[axis])//2)\r\n",
    "    return G"
   ],
   "outputs": [],
   "metadata": {}
  },
  {
   "cell_type": "code",
   "execution_count": 5,
   "source": [
    "storeNodes = alignNodes(sGraph)\r\n",
    "print(\"storeNodes\")\r\n",
    "print(storeNodes)\r\n",
    "corridorNodes = alignNodes(cGraph)\r\n",
    "print(\"corridorNodes\")\r\n",
    "print(corridorNodes)"
   ],
   "outputs": [
    {
     "output_type": "stream",
     "name": "stdout",
     "text": [
      "storeNodes\n",
      "[['S1', array([7, 4])], ['S2', array([12,  4])], ['S3', array([17,  4])], ['S4', array([36,  8])], ['S5', array([36, 15])], ['S6', array([33, 25])], ['S7', array([19, 25])], ['S8', array([10, 25])], ['S9', array([ 3, 22])], ['S10', array([ 3, 15])], ['S11', array([3, 8])], ['S12', array([12, 15])], ['S13', array([19, 13])], ['S14', array([27, 13])], ['S15', array([27, 17])], ['S16', array([19, 17])]]\n",
      "corridorNodes\n",
      "[['C1', array([19,  7])], ['C2', array([ 7, 13])], ['C3', array([19, 21])], ['C4', array([32, 13])]]\n"
     ]
    }
   ],
   "metadata": {}
  },
  {
   "cell_type": "code",
   "execution_count": 6,
   "source": [
    "def getCorridors(G):\r\n",
    "    G = sorted(G,key=lambda x: x[1][0])\r\n",
    "    Corners = []\r\n",
    "    i = 0\r\n",
    "    for nodeId_i, pos_i in G:\r\n",
    "        i += 1\r\n",
    "        for nodeId_j, pos_j in G[i:]:\r\n",
    "            if(not(pos_i[0] == pos_j[0] or pos_i[1] == pos_j[1])):\r\n",
    "                if(not([pos_i[0],pos_j[1]] in Corners)):\r\n",
    "                    Corners.append([pos_i[0],pos_j[1]])\r\n",
    "                else: \r\n",
    "                    Corners.pop(Corners.index([pos_i[0],pos_j[1]]))\r\n",
    "\r\n",
    "                if(not([pos_j[0],pos_i[1]] in Corners)):\r\n",
    "                    Corners.append([pos_j[0],pos_i[1]])\r\n",
    "                else:\r\n",
    "                    Corners.pop(Corners.index([pos_j[0],pos_i[1]]))\r\n",
    "    corridorCorners = []\r\n",
    "    count = 1\r\n",
    "    for node in Corners:\r\n",
    "        cId = \"C\" + str(count)\r\n",
    "        corridorCorners.append([cId,np.array(node)])\r\n",
    "        count += 1\r\n",
    "\r\n",
    "    Corridors = []\r\n",
    "    for i in range(len(Corners)):\r\n",
    "            for j in range(i+1,len(Corners)):\r\n",
    "                if(Corners[i][0]==Corners[j][0]):\r\n",
    "                    Corridors.append([0,np.array(Corners[i]),np.array(Corners[j])])\r\n",
    "                if(Corners[i][1]==Corners[j][1]):\r\n",
    "                    Corridors.append([1,np.array(Corners[i]),np.array(Corners[j])])\r\n",
    "    return corridorCorners, Corridors"
   ],
   "outputs": [],
   "metadata": {}
  },
  {
   "cell_type": "code",
   "execution_count": 7,
   "source": [
    "corridorCorners, corridors= getCorridors(corridorNodes)\r\n",
    "print('corridorCorners')\r\n",
    "print(corridorCorners)\r\n",
    "print('corridors')\r\n",
    "print(corridors)"
   ],
   "outputs": [
    {
     "output_type": "stream",
     "name": "stdout",
     "text": [
      "corridorCorners\n",
      "[['C1', array([7, 7])], ['C2', array([ 7, 21])], ['C3', array([32,  7])], ['C4', array([32, 21])]]\n",
      "corridors\n",
      "[[0, array([7, 7]), array([ 7, 21])], [1, array([7, 7]), array([32,  7])], [1, array([ 7, 21]), array([32, 21])], [0, array([32,  7]), array([32, 21])]]\n"
     ]
    }
   ],
   "metadata": {}
  },
  {
   "cell_type": "code",
   "execution_count": 8,
   "source": [
    "# d = norm(np.cross(p2-p1, p1-p3))/norm(p2-p1)\r\n",
    "def getCorridorNodes(storeNodes,Corridors,CorridorNodes):\r\n",
    "    i = 0 \r\n",
    "    for sId,storeNode in storeNodes:\r\n",
    "        i+=1\r\n",
    "        distance = []\r\n",
    "        for [axis,p1,p2] in Corridors:\r\n",
    "            d = norm(np.cross(p2-p1, p1-storeNode))/norm(p2-p1)\r\n",
    "            if(d == 0):\r\n",
    "                if(norm(p1-storeNode)>norm(p2-storeNode)):\r\n",
    "                    distance.append([axis,p2.copy(),p1.copy(),p2.copy(),d])\r\n",
    "                else:\r\n",
    "                    distance.append([axis,p1.copy(),p1.copy(),p2.copy(),d])\r\n",
    "            else:\r\n",
    "                newNode = storeNode.copy()\r\n",
    "                newNode[axis] = p1[axis]\r\n",
    "                distance.append([axis,newNode.copy(),p1.copy(),p2.copy(),d])\r\n",
    "       \r\n",
    "        distance = sorted(distance, key= lambda d:d[-1])\r\n",
    "        newNode = []\r\n",
    "        flag = 0\r\n",
    "        for newNodes in distance:\r\n",
    "            if(validateNewNode(newNodes)):\r\n",
    "                newNode = newNodes[1].copy()\r\n",
    "                flag = 1\r\n",
    "                break\r\n",
    "        if(flag):\r\n",
    "            for cId ,cnode in CorridorNodes:\r\n",
    "                if(np.array_equal(newNode,cnode)):\r\n",
    "                    flag = 0\r\n",
    "                    break   \r\n",
    "            if(flag):\r\n",
    "                cId = \"C\" + str(len(CorridorNodes) + 1)\r\n",
    "                CorridorNodes.append([cId,newNode])\r\n",
    "    return CorridorNodes    "
   ],
   "outputs": [],
   "metadata": {}
  },
  {
   "cell_type": "code",
   "execution_count": 9,
   "source": [
    "def validateNewNode(newNode):\r\n",
    "    axis,p3,p1,p2,d = newNode\r\n",
    "    if(d == 0):\r\n",
    "        return True\r\n",
    "\r\n",
    "    if(axis):\r\n",
    "        x1 = int(min(p1[0],p2[0]))\r\n",
    "        x2 = int(max(p1[0],p2[0])+1)\r\n",
    "        x3 = int(p3[0])\r\n",
    "        if(x3 in range(x1,x2)):\r\n",
    "            return True\r\n",
    "            \r\n",
    "    else:\r\n",
    "        y1 = int(min(p1[1],p2[1]))\r\n",
    "        y2 = int(max(p1[1],p2[1])+1)\r\n",
    "        y3 = int(p3[1])\r\n",
    "        if(y3 in range(y1,y2)):\r\n",
    "            return True\r\n",
    "    \r\n",
    "    return False"
   ],
   "outputs": [],
   "metadata": {}
  },
  {
   "cell_type": "code",
   "execution_count": 10,
   "source": [
    "def intermediateCNode(corridors,corridorNodes):\r\n",
    "    for axis, p1, p2 in corridors:\r\n",
    "        newNode = p1.copy()\r\n",
    "        if(axis):\r\n",
    "            x1 = int(min(p1[0],p2[0]))\r\n",
    "            x2 = int(max(p1[0],p2[0]))\r\n",
    "            for x3 in range(x1+1,x2):\r\n",
    "                newNode[0] = x3\r\n",
    "                cId = \"C\"+ str(len(corridorNodes)+1)\r\n",
    "                corridorNodes.append([cId,newNode.copy()])\r\n",
    "        else:\r\n",
    "            y1 = int(min(p1[1],p2[1]))\r\n",
    "            y2 = int(max(p1[1],p2[1]))\r\n",
    "            for y3 in range(y1+1,y2):\r\n",
    "                newNode[1] = y3\r\n",
    "                cId = \"C\"+ str(len(corridorNodes)+1)\r\n",
    "                corridorNodes.append([cId,newNode.copy()])\r\n",
    "    return corridorNodes"
   ],
   "outputs": [],
   "metadata": {}
  },
  {
   "cell_type": "code",
   "execution_count": 11,
   "source": [
    "corridorNodes = corridorCorners.copy()\r\n",
    "corridorNodes = intermediateCNode(corridors,corridorNodes)\r\n",
    "corridorNodes = getCorridorNodes(storeNodes,corridors,corridorNodes)\r\n",
    "# for cnode in corridorNodes:\r\n",
    "#     print(cnode)"
   ],
   "outputs": [],
   "metadata": {}
  },
  {
   "cell_type": "code",
   "execution_count": 12,
   "source": [
    "def connectSNodes(corridorNodes,storeNodes):\r\n",
    "    edges = []\r\n",
    "    for sId, p1 in storeNodes:\r\n",
    "        distance = [9999]\r\n",
    "        for cId, p2 in corridorNodes:\r\n",
    "            if((p1 == p2).any()):\r\n",
    "                d = int(norm(p2-p1))\r\n",
    "                if(distance[-1]>d):\r\n",
    "                    distance = [sId,cId,p1,p2,d]\r\n",
    "                # print(distance)\r\n",
    "        if(len(distance)==1):\r\n",
    "            for cId, p2 in corridorNodes:\r\n",
    "                d = int(norm(p2-p1))\r\n",
    "                if(distance[-1]>d):\r\n",
    "                    distance = [sId,cId,p1,p2,d]\r\n",
    "        # if(len(distance)>1):    \r\n",
    "        edges.append(distance)\r\n",
    "    return edges"
   ],
   "outputs": [],
   "metadata": {}
  },
  {
   "cell_type": "code",
   "execution_count": 13,
   "source": [
    "sEdges = connectSNodes(corridorNodes,storeNodes)\r\n",
    "# for edge in sEdges:\r\n",
    "#     print(edge)"
   ],
   "outputs": [],
   "metadata": {}
  },
  {
   "cell_type": "code",
   "execution_count": 14,
   "source": [
    "def connectCNodes(corridorNodes):\r\n",
    "    edges = []\r\n",
    "    i = 0\r\n",
    "    for cId_i, p1 in corridorNodes:\r\n",
    "        # i += 1\r\n",
    "        distance = []\r\n",
    "        for cId_j, p2 in corridorNodes[i:]:\r\n",
    "            if((p1 == p2).any()):\r\n",
    "                d = int(norm(p2-p1))\r\n",
    "                distance.append([cId_i,cId_j,p1,p2,d])\r\n",
    "        distance = sorted(distance,key=lambda x: x[-1])\r\n",
    "        try:\r\n",
    "            edges.append(distance[1])\r\n",
    "            edges.append(distance[2])\r\n",
    "        except:\r\n",
    "            # edges.append(distance[0])\r\n",
    "            pass\r\n",
    "    return edges"
   ],
   "outputs": [],
   "metadata": {}
  },
  {
   "cell_type": "code",
   "execution_count": 15,
   "source": [
    "cEdges = connectCNodes(corridorNodes)\r\n",
    "# for edge in cEdges:\r\n",
    "#     print(edge)"
   ],
   "outputs": [],
   "metadata": {}
  },
  {
   "cell_type": "code",
   "execution_count": 16,
   "source": [
    "print('allNodes')\r\n",
    "allNodes = storeNodes.copy()\r\n",
    "allNodes += corridorNodes\r\n",
    "# for node in allNodes:\r\n",
    "#     print(node)\r\n",
    "\r\n",
    "print('allEdges')\r\n",
    "allEdges = sEdges.copy()\r\n",
    "allEdges += cEdges\r\n",
    "# for edge in allEdges:\r\n",
    "#     print(edge)"
   ],
   "outputs": [
    {
     "output_type": "stream",
     "name": "stdout",
     "text": [
      "allNodes\n",
      "allEdges\n"
     ]
    }
   ],
   "metadata": {}
  },
  {
   "cell_type": "code",
   "execution_count": 17,
   "source": [
    "def createGraph(nodes,edges):\r\n",
    "    G = nx.Graph()\r\n",
    "    for [id, pos] in nodes:\r\n",
    "        G.add_node(id,\r\n",
    "                   storeName = id,\r\n",
    "                   position = (pos[0],-pos[1]))\r\n",
    "    \r\n",
    "    for [id1, id2, p1, p2, d]  in edges:\r\n",
    "        G.add_edge(id1,id2,weight = d)\r\n",
    "    return G\r\n",
    "def showGraph(G):\r\n",
    "    pos = {}\r\n",
    "    for node in G.nodes(data = True):\r\n",
    "        # print(node)\r\n",
    "        pos[node[0]] = [int(p) for p in node[1]['position'][0:2]]\r\n",
    "    nx.draw_networkx(G, pos = pos)"
   ],
   "outputs": [],
   "metadata": {}
  },
  {
   "cell_type": "code",
   "execution_count": 18,
   "source": [
    "# G = createGraph(storeNodes,sEdges)\r\n",
    "# showGraph(G)"
   ],
   "outputs": [],
   "metadata": {}
  },
  {
   "cell_type": "code",
   "execution_count": 19,
   "source": [
    "G = createGraph(corridorNodes,cEdges)\r\n",
    "showGraph(G)"
   ],
   "outputs": [
    {
     "output_type": "display_data",
     "data": {
      "text/plain": [
       "<Figure size 432x288 with 1 Axes>"
      ],
      "image/png": "[encoded data removed]"
     },
     "metadata": {}
    }
   ],
   "metadata": {}
  },
  {
   "cell_type": "code",
   "execution_count": 20,
   "source": [
    "G = createGraph(allNodes,allEdges)\r\n",
    "showGraph(G)"
   ],
   "outputs": [
    {
     "output_type": "display_data",
     "data": {
      "text/plain": [
       "<Figure size 432x288 with 1 Axes>"
      ],
      "image/png": "[encoded data removed]"
     },
     "metadata": {}
    }
   ],
   "metadata": {}
  },
  {
   "cell_type": "code",
   "execution_count": 21,
   "source": [
    "def computeShortestPath(G, nodes):\r\n",
    "    path = nx.bidirectional_dijkstra(G, nodes[0], nodes[1],weight=\"weight\")\r\n",
    "    return path\r\n",
    "print(computeShortestPath(G,('S1','S8')))"
   ],
   "outputs": [
    {
     "output_type": "error",
     "ename": "TypeError",
     "evalue": "computeShortestPath() takes 2 positional arguments but 3 were given",
     "traceback": [
      "\u001b[1;31m---------------------------------------------------------------------------\u001b[0m",
      "\u001b[1;31mTypeError\u001b[0m                                 Traceback (most recent call last)",
      "\u001b[1;32m<ipython-input-21-51a5e2c07ab7>\u001b[0m in \u001b[0;36m<module>\u001b[1;34m\u001b[0m\n\u001b[0;32m      2\u001b[0m     \u001b[0mpath\u001b[0m \u001b[1;33m=\u001b[0m \u001b[0mnx\u001b[0m\u001b[1;33m.\u001b[0m\u001b[0mbidirectional_dijkstra\u001b[0m\u001b[1;33m(\u001b[0m\u001b[0mG\u001b[0m\u001b[1;33m,\u001b[0m \u001b[0mnodes\u001b[0m\u001b[1;33m[\u001b[0m\u001b[1;36m0\u001b[0m\u001b[1;33m]\u001b[0m\u001b[1;33m,\u001b[0m \u001b[0mnodes\u001b[0m\u001b[1;33m[\u001b[0m\u001b[1;36m1\u001b[0m\u001b[1;33m]\u001b[0m\u001b[1;33m,\u001b[0m\u001b[0mweight\u001b[0m\u001b[1;33m=\u001b[0m\u001b[1;34m\"weight\"\u001b[0m\u001b[1;33m)\u001b[0m\u001b[1;33m\u001b[0m\u001b[1;33m\u001b[0m\u001b[0m\n\u001b[0;32m      3\u001b[0m     \u001b[1;32mreturn\u001b[0m \u001b[0mpath\u001b[0m\u001b[1;33m\u001b[0m\u001b[1;33m\u001b[0m\u001b[0m\n\u001b[1;32m----> 4\u001b[1;33m \u001b[0mprint\u001b[0m\u001b[1;33m(\u001b[0m\u001b[0mcomputeShortestPath\u001b[0m\u001b[1;33m(\u001b[0m\u001b[0mG\u001b[0m\u001b[1;33m,\u001b[0m\u001b[1;34m'S1'\u001b[0m\u001b[1;33m,\u001b[0m\u001b[1;34m'S8'\u001b[0m\u001b[1;33m)\u001b[0m\u001b[1;33m)\u001b[0m\u001b[1;33m\u001b[0m\u001b[1;33m\u001b[0m\u001b[0m\n\u001b[0m",
      "\u001b[1;31mTypeError\u001b[0m: computeShortestPath() takes 2 positional arguments but 3 were given"
     ]
    }
   ],
   "metadata": {}
  }
 ],
 "metadata": {
  "kernelspec": {
   "name": "python3",
   "display_name": "Python 3.9.6 64-bit"
  },
  "language_info": {
   "codemirror_mode": {
    "name": "ipython",
    "version": 3
   },
   "file_extension": ".py",
   "mimetype": "text/x-python",
   "name": "python",
   "nbconvert_exporter": "python",
   "pygments_lexer": "ipython3",
   "version": "3.9.6"
  },
  "interpreter": {
   "hash": "6cfb479d296579085f6091e5a7727a11121cc3d75e2d1140668cd117d8fd9ef1"
  }
 },
 "nbformat": 4,
 "nbformat_minor": 1
}
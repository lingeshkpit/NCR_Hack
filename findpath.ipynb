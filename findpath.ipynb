{
 "cells": [
  {
   "cell_type": "code",
   "execution_count": 1,
   "source": [
    "import json\r\n",
    "import networkx as nx\r\n",
    "import numpy as np\r\n",
    "import math"
   ],
   "outputs": [],
   "metadata": {
    "collapsed": true
   }
  },
  {
   "cell_type": "code",
   "execution_count": 2,
   "source": [
    "class indoorGraph:\r\n",
    "    def createGraph(path):\r\n",
    "        G = nx.Graph()\r\n",
    "        with open(path) as f:\r\n",
    "            graph = json.load(f, parse_int=str)\r\n",
    "            for node in graph['node']:\r\n",
    "                G.add_node(node['Id'], \r\n",
    "                    title = node['Title'], \r\n",
    "                    position = (node['X'], node['Y'], node['Z']))\r\n",
    "            for edge in graph['edge']:\r\n",
    "                x1,y1,z1 = map(int,G.nodes[edge['node'][0]]['position'])\r\n",
    "                x2,y2,z2 = map(int,G.nodes[edge['node'][1]]['position'])\r\n",
    "                G.add_edge(edge['node'][0], edge['node'][1], weight = int(abs((x1-x2) +(y1-y2) +(z1-z2))))\r\n",
    "        return G\r\n",
    "    def computeShortestPath(G, nodes):\r\n",
    "        path = nx.bidirectional_dijkstra(G, nodes[0], nodes[1],weight=\"weight\")\r\n",
    "        return path\r\n",
    "\r\n",
    "    def showLayout(G):\r\n",
    "        pos = {}\r\n",
    "        for node in G.nodes(data = True):\r\n",
    "            pos[node[0]] = [int(p) for p in node[1]['position'][0:2]]\r\n",
    "        nx.draw(G, pos = pos)\r\n",
    "\r\n",
    "    def getNodeId(G, nodeTitle):\r\n",
    "        for node in G.nodes(data = True):\r\n",
    "            if(node[1]['title'] == nodeTitle):\r\n",
    "                return node[0]\r\n",
    "        return False\r\n"
   ],
   "outputs": [],
   "metadata": {}
  },
  {
   "cell_type": "code",
   "execution_count": 3,
   "source": [
    "G = nx.Graph()\r\n",
    "G.add_edge(1, 2, weight=3)\r\n",
    "G.add_edge(2, 3, weight=7)\r\n",
    "print(nx.bidirectional_dijkstra(G, 1,3,weight=\"weight\"))"
   ],
   "outputs": [
    {
     "output_type": "stream",
     "name": "stdout",
     "text": [
      "(10, [1, 2, 3])\n"
     ]
    }
   ],
   "metadata": {}
  },
  {
   "cell_type": "code",
   "execution_count": 4,
   "source": [
    "G = indoorGraph.createGraph('./Jsons/test1.json')\r\n",
    "# print(indoorGraph.getNodeId(G, 'Node1'))\r\n",
    "print(G.edges)\r\n",
    "indoorGraph.showLayout(G)\r\n",
    "path = indoorGraph.computeShortestPath(G, ('1', '17'))\r\n",
    "print(path)"
   ],
   "outputs": [
    {
     "output_type": "error",
     "ename": "FileNotFoundError",
     "evalue": "[Errno 2] No such file or directory: '/Jsons/test1.json'",
     "traceback": [
      "\u001b[1;31m---------------------------------------------------------------------------\u001b[0m",
      "\u001b[1;31mFileNotFoundError\u001b[0m                         Traceback (most recent call last)",
      "\u001b[1;32m<ipython-input-4-74694e6e351e>\u001b[0m in \u001b[0;36m<module>\u001b[1;34m\u001b[0m\n\u001b[1;32m----> 1\u001b[1;33m \u001b[0mG\u001b[0m \u001b[1;33m=\u001b[0m \u001b[0mindoorGraph\u001b[0m\u001b[1;33m.\u001b[0m\u001b[0mcreateGraph\u001b[0m\u001b[1;33m(\u001b[0m\u001b[1;34m'/Jsons/test1.json'\u001b[0m\u001b[1;33m)\u001b[0m\u001b[1;33m\u001b[0m\u001b[1;33m\u001b[0m\u001b[0m\n\u001b[0m\u001b[0;32m      2\u001b[0m \u001b[1;31m# print(indoorGraph.getNodeId(G, 'Node1'))\u001b[0m\u001b[1;33m\u001b[0m\u001b[1;33m\u001b[0m\u001b[1;33m\u001b[0m\u001b[0m\n\u001b[0;32m      3\u001b[0m \u001b[0mprint\u001b[0m\u001b[1;33m(\u001b[0m\u001b[0mG\u001b[0m\u001b[1;33m.\u001b[0m\u001b[0medges\u001b[0m\u001b[1;33m)\u001b[0m\u001b[1;33m\u001b[0m\u001b[1;33m\u001b[0m\u001b[0m\n\u001b[0;32m      4\u001b[0m \u001b[0mindoorGraph\u001b[0m\u001b[1;33m.\u001b[0m\u001b[0mshowLayout\u001b[0m\u001b[1;33m(\u001b[0m\u001b[0mG\u001b[0m\u001b[1;33m)\u001b[0m\u001b[1;33m\u001b[0m\u001b[1;33m\u001b[0m\u001b[0m\n\u001b[0;32m      5\u001b[0m \u001b[0mpath\u001b[0m \u001b[1;33m=\u001b[0m \u001b[0mindoorGraph\u001b[0m\u001b[1;33m.\u001b[0m\u001b[0mcomputeShortestPath\u001b[0m\u001b[1;33m(\u001b[0m\u001b[0mG\u001b[0m\u001b[1;33m,\u001b[0m \u001b[1;33m(\u001b[0m\u001b[1;34m'1'\u001b[0m\u001b[1;33m,\u001b[0m \u001b[1;34m'17'\u001b[0m\u001b[1;33m)\u001b[0m\u001b[1;33m)\u001b[0m\u001b[1;33m\u001b[0m\u001b[1;33m\u001b[0m\u001b[0m\n",
      "\u001b[1;32m<ipython-input-2-46af2e626b8b>\u001b[0m in \u001b[0;36mcreateGraph\u001b[1;34m(path)\u001b[0m\n\u001b[0;32m      2\u001b[0m     \u001b[1;32mdef\u001b[0m \u001b[0mcreateGraph\u001b[0m\u001b[1;33m(\u001b[0m\u001b[0mpath\u001b[0m\u001b[1;33m)\u001b[0m\u001b[1;33m:\u001b[0m\u001b[1;33m\u001b[0m\u001b[1;33m\u001b[0m\u001b[0m\n\u001b[0;32m      3\u001b[0m         \u001b[0mG\u001b[0m \u001b[1;33m=\u001b[0m \u001b[0mnx\u001b[0m\u001b[1;33m.\u001b[0m\u001b[0mGraph\u001b[0m\u001b[1;33m(\u001b[0m\u001b[1;33m)\u001b[0m\u001b[1;33m\u001b[0m\u001b[1;33m\u001b[0m\u001b[0m\n\u001b[1;32m----> 4\u001b[1;33m         \u001b[1;32mwith\u001b[0m \u001b[0mopen\u001b[0m\u001b[1;33m(\u001b[0m\u001b[0mpath\u001b[0m\u001b[1;33m)\u001b[0m \u001b[1;32mas\u001b[0m \u001b[0mf\u001b[0m\u001b[1;33m:\u001b[0m\u001b[1;33m\u001b[0m\u001b[1;33m\u001b[0m\u001b[0m\n\u001b[0m\u001b[0;32m      5\u001b[0m             \u001b[0mgraph\u001b[0m \u001b[1;33m=\u001b[0m \u001b[0mjson\u001b[0m\u001b[1;33m.\u001b[0m\u001b[0mload\u001b[0m\u001b[1;33m(\u001b[0m\u001b[0mf\u001b[0m\u001b[1;33m,\u001b[0m \u001b[0mparse_int\u001b[0m\u001b[1;33m=\u001b[0m\u001b[0mstr\u001b[0m\u001b[1;33m)\u001b[0m\u001b[1;33m\u001b[0m\u001b[1;33m\u001b[0m\u001b[0m\n\u001b[0;32m      6\u001b[0m             \u001b[1;32mfor\u001b[0m \u001b[0mnode\u001b[0m \u001b[1;32min\u001b[0m \u001b[0mgraph\u001b[0m\u001b[1;33m[\u001b[0m\u001b[1;34m'node'\u001b[0m\u001b[1;33m]\u001b[0m\u001b[1;33m:\u001b[0m\u001b[1;33m\u001b[0m\u001b[1;33m\u001b[0m\u001b[0m\n",
      "\u001b[1;31mFileNotFoundError\u001b[0m: [Errno 2] No such file or directory: '/Jsons/test1.json'"
     ]
    }
   ],
   "metadata": {}
  }
 ],
 "metadata": {
  "kernelspec": {
   "name": "python3",
   "display_name": "Python 3.9.6 64-bit"
  },
  "language_info": {
   "codemirror_mode": {
    "name": "ipython",
    "version": 3
   },
   "file_extension": ".py",
   "mimetype": "text/x-python",
   "name": "python",
   "nbconvert_exporter": "python",
   "pygments_lexer": "ipython3",
   "version": "3.9.6"
  },
  "interpreter": {
   "hash": "6cfb479d296579085f6091e5a7727a11121cc3d75e2d1140668cd117d8fd9ef1"
  }
 },
 "nbformat": 4,
 "nbformat_minor": 1
}
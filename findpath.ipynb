{
 "cells": [
  {
   "cell_type": "code",
   "execution_count": 1,
   "source": [
    "import json\r\n",
    "import networkx as nx\r\n",
    "import numpy as np\r\n",
    "import math"
   ],
   "outputs": [],
   "metadata": {
    "collapsed": true
   }
  },
  {
   "cell_type": "code",
   "execution_count": 2,
   "source": [
    "class indoorGraph:\r\n",
    "    def createGraph(path):\r\n",
    "        G = nx.Graph()\r\n",
    "        with open(path) as f:\r\n",
    "            graph = json.load(f, parse_int=str)\r\n",
    "            for node in graph['node']:\r\n",
    "                G.add_node(node['Id'], \r\n",
    "                    title = node['Title'], \r\n",
    "                    position = (node['X'], node['Y'], node['Z']))\r\n",
    "            for edge in graph['edge']:\r\n",
    "                x1,y1,z1 = map(int,G.nodes[edge['node'][0]]['position'])\r\n",
    "                x2,y2,z2 = map(int,G.nodes[edge['node'][1]]['position'])\r\n",
    "                G.add_edge(edge['node'][0], edge['node'][1], weight = int(abs((x1-x2) +(y1-y2) +(z1-z2))))\r\n",
    "        return G\r\n",
    "    def computeShortestPath(G, nodes):\r\n",
    "        path = nx.bidirectional_dijkstra(G, nodes[0], nodes[1],weight=\"weight\")\r\n",
    "        return path\r\n",
    "\r\n",
    "    def showLayout(G):\r\n",
    "        pos = {}\r\n",
    "        for node in G.nodes(data = True):\r\n",
    "            pos[node[0]] = [int(p) for p in node[1]['position'][0:2]]\r\n",
    "        nx.draw(G, pos = pos)\r\n",
    "\r\n",
    "    def getNodeId(G, nodeTitle):\r\n",
    "        for node in G.nodes(data = True):\r\n",
    "            if(node[1]['title'] == nodeTitle):\r\n",
    "                return node[0]\r\n",
    "        return False\r\n"
   ],
   "outputs": [],
   "metadata": {}
  },
  {
   "cell_type": "code",
   "execution_count": 3,
   "source": [
    "G = nx.Graph()\r\n",
    "G.add_edge(1, 2, weight=3)\r\n",
    "G.add_edge(2, 3, weight=7)\r\n",
    "print(nx.bidirectional_dijkstra(G, 1,3,weight=\"weight\"))"
   ],
   "outputs": [
    {
     "output_type": "stream",
     "name": "stdout",
     "text": [
      "(10, [1, 2, 3])\n"
     ]
    }
   ],
   "metadata": {}
  },
  {
   "cell_type": "code",
   "execution_count": 4,
   "source": [
    "G = indoorGraph.createGraph('./Jsons/test1.json')\r\n",
    "# print(indoorGraph.getNodeId(G, 'Node1'))\r\n",
    "print(G.edges)\r\n",
    "indoorGraph.showLayout(G)\r\n",
    "path = indoorGraph.computeShortestPath(G, ('1', '17'))\r\n",
    "print(path)"
   ],
   "outputs": [
    {
     "output_type": "stream",
     "name": "stdout",
     "text": [
      "[('1', '8'), ('2', '5'), ('3', '6'), ('4', '5'), ('5', '6'), ('5', '16'), ('6', '7'), ('6', '12'), ('7', '8'), ('7', '13'), ('8', '9'), ('9', '10'), ('9', '14'), ('10', '11'), ('10', '24'), ('15', '16'), ('16', '20'), ('17', '21'), ('18', '23'), ('19', '20'), ('20', '21'), ('20', '26'), ('21', '22'), ('22', '23'), ('22', '27'), ('23', '24'), ('24', '25'), ('24', '28')]\n",
      "(26, ['1', '8', '9', '10', '24', '23', '22', '21', '17'])\n"
     ]
    },
    {
     "output_type": "display_data",
     "data": {
      "text/plain": "<Figure size 432x288 with 1 Axes>",
      "image/svg+xml": "<?xml version=\"1.0\" encoding=\"utf-8\" standalone=\"no\"?>\r\n<!DOCTYPE svg PUBLIC \"-//W3C//DTD SVG 1.1//EN\"\r\n  \"http://www.w3.org/Graphics/SVG/1.1/DTD/svg11.dtd\">\r\n<svg height=\"302.4pt\" version=\"1.1\" viewBox=\"0 0 446.4 302.4\" width=\"446.4pt\" xmlns=\"http://www.w3.org/2000/svg\" xmlns:xlink=\"http://www.w3.org/1999/xlink\">\r\n <metadata>\r\n  <rdf:RDF xmlns:cc=\"http://creativecommons.org/ns#\" xmlns:dc=\"http://purl.org/dc/elements/1.1/\" xmlns:rdf=\"http://www.w3.org/1999/02/22-rdf-syntax-ns#\">\r\n   <cc:Work>\r\n    <dc:type rdf:resource=\"http://purl.org/dc/dcmitype/StillImage\"/>\r\n    <dc:date>2021-07-13T13:50:08.736431</dc:date>\r\n    <dc:format>image/svg+xml</dc:format>\r\n    <dc:creator>\r\n     <cc:Agent>\r\n      <dc:title>Matplotlib v3.4.2, https://matplotlib.org/</dc:title>\r\n     </cc:Agent>\r\n    </dc:creator>\r\n   </cc:Work>\r\n  </rdf:RDF>\r\n </metadata>\r\n <defs>\r\n  <style type=\"text/css\">*{stroke-linecap:butt;stroke-linejoin:round;}</style>\r\n </defs>\r\n <g id=\"figure_1\">\r\n  <g id=\"patch_1\">\r\n   <path d=\"M 0 302.4 \r\nL 446.4 302.4 \r\nL 446.4 0 \r\nL 0 0 \r\nz\r\n\" style=\"fill:#ffffff;\"/>\r\n  </g>\r\n  <g id=\"axes_1\">\r\n   <g id=\"LineCollection_1\">\r\n    <path clip-path=\"url(#pc513f9430d)\" d=\"M 251.251948 20.290909 \r\nL 251.251948 113.797403 \r\n\" style=\"fill:none;stroke:#000000;\"/>\r\n    <path clip-path=\"url(#pc513f9430d)\" d=\"M 54.888312 76.394805 \r\nL 54.888312 113.797403 \r\n\" style=\"fill:none;stroke:#000000;\"/>\r\n    <path clip-path=\"url(#pc513f9430d)\" d=\"M 110.992208 76.394805 \r\nL 110.992208 113.797403 \r\n\" style=\"fill:none;stroke:#000000;\"/>\r\n    <path clip-path=\"url(#pc513f9430d)\" d=\"M 26.836364 113.797403 \r\nL 54.888312 113.797403 \r\n\" style=\"fill:none;stroke:#000000;\"/>\r\n    <path clip-path=\"url(#pc513f9430d)\" d=\"M 54.888312 113.797403 \r\nL 110.992208 113.797403 \r\n\" style=\"fill:none;stroke:#000000;\"/>\r\n    <path clip-path=\"url(#pc513f9430d)\" d=\"M 54.888312 113.797403 \r\nL 54.888312 188.602597 \r\n\" style=\"fill:none;stroke:#000000;\"/>\r\n    <path clip-path=\"url(#pc513f9430d)\" d=\"M 110.992208 113.797403 \r\nL 195.148052 113.797403 \r\n\" style=\"fill:none;stroke:#000000;\"/>\r\n    <path clip-path=\"url(#pc513f9430d)\" d=\"M 110.992208 113.797403 \r\nL 110.992208 132.498701 \r\n\" style=\"fill:none;stroke:#000000;\"/>\r\n    <path clip-path=\"url(#pc513f9430d)\" d=\"M 195.148052 113.797403 \r\nL 251.251948 113.797403 \r\n\" style=\"fill:none;stroke:#000000;\"/>\r\n    <path clip-path=\"url(#pc513f9430d)\" d=\"M 195.148052 113.797403 \r\nL 195.148052 132.498701 \r\n\" style=\"fill:none;stroke:#000000;\"/>\r\n    <path clip-path=\"url(#pc513f9430d)\" d=\"M 251.251948 113.797403 \r\nL 307.355844 113.797403 \r\n\" style=\"fill:none;stroke:#000000;\"/>\r\n    <path clip-path=\"url(#pc513f9430d)\" d=\"M 307.355844 113.797403 \r\nL 391.511688 113.797403 \r\n\" style=\"fill:none;stroke:#000000;\"/>\r\n    <path clip-path=\"url(#pc513f9430d)\" d=\"M 307.355844 113.797403 \r\nL 307.355844 132.498701 \r\n\" style=\"fill:none;stroke:#000000;\"/>\r\n    <path clip-path=\"url(#pc513f9430d)\" d=\"M 391.511688 113.797403 \r\nL 419.563636 113.797403 \r\n\" style=\"fill:none;stroke:#000000;\"/>\r\n    <path clip-path=\"url(#pc513f9430d)\" d=\"M 391.511688 113.797403 \r\nL 391.511688 263.407792 \r\n\" style=\"fill:none;stroke:#000000;\"/>\r\n    <path clip-path=\"url(#pc513f9430d)\" d=\"M 26.836364 188.602597 \r\nL 54.888312 188.602597 \r\n\" style=\"fill:none;stroke:#000000;\"/>\r\n    <path clip-path=\"url(#pc513f9430d)\" d=\"M 54.888312 188.602597 \r\nL 54.888312 263.407792 \r\n\" style=\"fill:none;stroke:#000000;\"/>\r\n    <path clip-path=\"url(#pc513f9430d)\" d=\"M 195.148052 244.706494 \r\nL 195.148052 263.407792 \r\n\" style=\"fill:none;stroke:#000000;\"/>\r\n    <path clip-path=\"url(#pc513f9430d)\" d=\"M 307.355844 244.706494 \r\nL 307.355844 263.407792 \r\n\" style=\"fill:none;stroke:#000000;\"/>\r\n    <path clip-path=\"url(#pc513f9430d)\" d=\"M 26.836364 263.407792 \r\nL 54.888312 263.407792 \r\n\" style=\"fill:none;stroke:#000000;\"/>\r\n    <path clip-path=\"url(#pc513f9430d)\" d=\"M 54.888312 263.407792 \r\nL 195.148052 263.407792 \r\n\" style=\"fill:none;stroke:#000000;\"/>\r\n    <path clip-path=\"url(#pc513f9430d)\" d=\"M 54.888312 263.407792 \r\nL 54.888312 282.109091 \r\n\" style=\"fill:none;stroke:#000000;\"/>\r\n    <path clip-path=\"url(#pc513f9430d)\" d=\"M 195.148052 263.407792 \r\nL 251.251948 263.407792 \r\n\" style=\"fill:none;stroke:#000000;\"/>\r\n    <path clip-path=\"url(#pc513f9430d)\" d=\"M 251.251948 263.407792 \r\nL 307.355844 263.407792 \r\n\" style=\"fill:none;stroke:#000000;\"/>\r\n    <path clip-path=\"url(#pc513f9430d)\" d=\"M 251.251948 263.407792 \r\nL 251.251948 282.109091 \r\n\" style=\"fill:none;stroke:#000000;\"/>\r\n    <path clip-path=\"url(#pc513f9430d)\" d=\"M 307.355844 263.407792 \r\nL 391.511688 263.407792 \r\n\" style=\"fill:none;stroke:#000000;\"/>\r\n    <path clip-path=\"url(#pc513f9430d)\" d=\"M 391.511688 263.407792 \r\nL 419.563636 263.407792 \r\n\" style=\"fill:none;stroke:#000000;\"/>\r\n    <path clip-path=\"url(#pc513f9430d)\" d=\"M 391.511688 263.407792 \r\nL 391.511688 282.109091 \r\n\" style=\"fill:none;stroke:#000000;\"/>\r\n   </g>\r\n   <g id=\"PathCollection_1\">\r\n    <defs>\r\n     <path d=\"M 0 8.660254 \r\nC 2.296726 8.660254 4.499694 7.747755 6.123724 6.123724 \r\nC 7.747755 4.499694 8.660254 2.296726 8.660254 0 \r\nC 8.660254 -2.296726 7.747755 -4.499694 6.123724 -6.123724 \r\nC 4.499694 -7.747755 2.296726 -8.660254 0 -8.660254 \r\nC -2.296726 -8.660254 -4.499694 -7.747755 -6.123724 -6.123724 \r\nC -7.747755 -4.499694 -8.660254 -2.296726 -8.660254 0 \r\nC -8.660254 2.296726 -7.747755 4.499694 -6.123724 6.123724 \r\nC -4.499694 7.747755 -2.296726 8.660254 0 8.660254 \r\nz\r\n\" id=\"m9615a80f83\" style=\"stroke:#1f78b4;\"/>\r\n    </defs>\r\n    <g clip-path=\"url(#pc513f9430d)\">\r\n     <use style=\"fill:#1f78b4;stroke:#1f78b4;\" x=\"251.251948\" xlink:href=\"#m9615a80f83\" y=\"20.290909\"/>\r\n     <use style=\"fill:#1f78b4;stroke:#1f78b4;\" x=\"54.888312\" xlink:href=\"#m9615a80f83\" y=\"76.394805\"/>\r\n     <use style=\"fill:#1f78b4;stroke:#1f78b4;\" x=\"110.992208\" xlink:href=\"#m9615a80f83\" y=\"76.394805\"/>\r\n     <use style=\"fill:#1f78b4;stroke:#1f78b4;\" x=\"26.836364\" xlink:href=\"#m9615a80f83\" y=\"113.797403\"/>\r\n     <use style=\"fill:#1f78b4;stroke:#1f78b4;\" x=\"54.888312\" xlink:href=\"#m9615a80f83\" y=\"113.797403\"/>\r\n     <use style=\"fill:#1f78b4;stroke:#1f78b4;\" x=\"110.992208\" xlink:href=\"#m9615a80f83\" y=\"113.797403\"/>\r\n     <use style=\"fill:#1f78b4;stroke:#1f78b4;\" x=\"195.148052\" xlink:href=\"#m9615a80f83\" y=\"113.797403\"/>\r\n     <use style=\"fill:#1f78b4;stroke:#1f78b4;\" x=\"251.251948\" xlink:href=\"#m9615a80f83\" y=\"113.797403\"/>\r\n     <use style=\"fill:#1f78b4;stroke:#1f78b4;\" x=\"307.355844\" xlink:href=\"#m9615a80f83\" y=\"113.797403\"/>\r\n     <use style=\"fill:#1f78b4;stroke:#1f78b4;\" x=\"391.511688\" xlink:href=\"#m9615a80f83\" y=\"113.797403\"/>\r\n     <use style=\"fill:#1f78b4;stroke:#1f78b4;\" x=\"419.563636\" xlink:href=\"#m9615a80f83\" y=\"113.797403\"/>\r\n     <use style=\"fill:#1f78b4;stroke:#1f78b4;\" x=\"110.992208\" xlink:href=\"#m9615a80f83\" y=\"132.498701\"/>\r\n     <use style=\"fill:#1f78b4;stroke:#1f78b4;\" x=\"195.148052\" xlink:href=\"#m9615a80f83\" y=\"132.498701\"/>\r\n     <use style=\"fill:#1f78b4;stroke:#1f78b4;\" x=\"307.355844\" xlink:href=\"#m9615a80f83\" y=\"132.498701\"/>\r\n     <use style=\"fill:#1f78b4;stroke:#1f78b4;\" x=\"26.836364\" xlink:href=\"#m9615a80f83\" y=\"188.602597\"/>\r\n     <use style=\"fill:#1f78b4;stroke:#1f78b4;\" x=\"54.888312\" xlink:href=\"#m9615a80f83\" y=\"188.602597\"/>\r\n     <use style=\"fill:#1f78b4;stroke:#1f78b4;\" x=\"195.148052\" xlink:href=\"#m9615a80f83\" y=\"244.706494\"/>\r\n     <use style=\"fill:#1f78b4;stroke:#1f78b4;\" x=\"307.355844\" xlink:href=\"#m9615a80f83\" y=\"244.706494\"/>\r\n     <use style=\"fill:#1f78b4;stroke:#1f78b4;\" x=\"26.836364\" xlink:href=\"#m9615a80f83\" y=\"263.407792\"/>\r\n     <use style=\"fill:#1f78b4;stroke:#1f78b4;\" x=\"54.888312\" xlink:href=\"#m9615a80f83\" y=\"263.407792\"/>\r\n     <use style=\"fill:#1f78b4;stroke:#1f78b4;\" x=\"195.148052\" xlink:href=\"#m9615a80f83\" y=\"263.407792\"/>\r\n     <use style=\"fill:#1f78b4;stroke:#1f78b4;\" x=\"251.251948\" xlink:href=\"#m9615a80f83\" y=\"263.407792\"/>\r\n     <use style=\"fill:#1f78b4;stroke:#1f78b4;\" x=\"307.355844\" xlink:href=\"#m9615a80f83\" y=\"263.407792\"/>\r\n     <use style=\"fill:#1f78b4;stroke:#1f78b4;\" x=\"391.511688\" xlink:href=\"#m9615a80f83\" y=\"263.407792\"/>\r\n     <use style=\"fill:#1f78b4;stroke:#1f78b4;\" x=\"419.563636\" xlink:href=\"#m9615a80f83\" y=\"263.407792\"/>\r\n     <use style=\"fill:#1f78b4;stroke:#1f78b4;\" x=\"54.888312\" xlink:href=\"#m9615a80f83\" y=\"282.109091\"/>\r\n     <use style=\"fill:#1f78b4;stroke:#1f78b4;\" x=\"251.251948\" xlink:href=\"#m9615a80f83\" y=\"282.109091\"/>\r\n     <use style=\"fill:#1f78b4;stroke:#1f78b4;\" x=\"391.511688\" xlink:href=\"#m9615a80f83\" y=\"282.109091\"/>\r\n    </g>\r\n   </g>\r\n  </g>\r\n </g>\r\n <defs>\r\n  <clipPath id=\"pc513f9430d\">\r\n   <rect height=\"288\" width=\"432\" x=\"7.2\" y=\"7.2\"/>\r\n  </clipPath>\r\n </defs>\r\n</svg>\r\n",
      "image/png": "[encoded data removed]"
     },
     "metadata": {}
    }
   ],
   "metadata": {}
  }
 ],
 "metadata": {
  "kernelspec": {
   "name": "python3",
   "display_name": "Python 3.9.6 64-bit"
  },
  "language_info": {
   "codemirror_mode": {
    "name": "ipython",
    "version": 3
   },
   "file_extension": ".py",
   "mimetype": "text/x-python",
   "name": "python",
   "nbconvert_exporter": "python",
   "pygments_lexer": "ipython3",
   "version": "3.9.6"
  },
  "interpreter": {
   "hash": "6cfb479d296579085f6091e5a7727a11121cc3d75e2d1140668cd117d8fd9ef1"
  }
 },
 "nbformat": 4,
 "nbformat_minor": 1
}
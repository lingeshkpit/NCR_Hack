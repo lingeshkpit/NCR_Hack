{
 "cells": [
  {
   "cell_type": "code",
   "execution_count": 1,
   "source": [
    "import cv2 as cv\r\n",
    "import numpy as np\r\n",
    "from matplotlib import pyplot as plt"
   ],
   "outputs": [],
   "metadata": {}
  },
  {
   "cell_type": "code",
   "execution_count": 2,
   "source": [
    "class getBlueprint:\r\n",
    "    def getCannyEdge(image):\r\n",
    "        try:\r\n",
    "            grey = cv.cvtColor(image, cv.COLOR_BGR2GRAY)\r\n",
    "            bilateralFilter = cv.bilateralFilter(grey, 11, 17, 17)\r\n",
    "            # thresh = cv.threshold(bilateralFilter, 60, 255, cv.THRESH_BINARY)[1]\r\n",
    "        except:\r\n",
    "            bilateralFilter = image\r\n",
    "        imageMedian = np.median(image)\r\n",
    "        lowerThreshold = max(0, (0.7 * imageMedian))\r\n",
    "        upperThreshold = min(255, (0.7 * imageMedian))\r\n",
    "        CannyEdged = cv.Canny(bilateralFilter, lowerThreshold , upperThreshold)\r\n",
    "        for i in range(CannyEdged.shape[0]):\r\n",
    "            for j in range(CannyEdged.shape[1]):\r\n",
    "                if(CannyEdged[i][j]):\r\n",
    "                    CannyEdged[i][j] = 0\r\n",
    "                else:\r\n",
    "                    CannyEdged[i][j] = 255\r\n",
    "        return CannyEdged\r\n",
    "\r\n",
    "    def getStoreBoundries(image):\r\n",
    "        area = image.shape[0]*image.shape[1]\r\n",
    "        minarea = min(image.shape[0],image.shape[1]) \r\n",
    "        maxarea = area*(minarea-1)//minarea\r\n",
    "        boundryImage = np.copy(image)\r\n",
    "        for i in range(boundryImage.shape[0]):\r\n",
    "            for j in range(boundryImage.shape[1]):\r\n",
    "                if(not boundryImage[i][j]):\r\n",
    "                    boundryImage[i][j] = 255\r\n",
    "        \r\n",
    "        (cnts, _) = cv.findContours(cannyImg, cv.RETR_LIST, cv.CHAIN_APPROX_SIMPLE)\r\n",
    "        cnts=sorted(cnts, key = cv.contourArea, reverse = True)\r\n",
    "        storeBoundries = []\r\n",
    "        for c in cnts:\r\n",
    "            x,y,w,h = cv.boundingRect(c)\r\n",
    "            if(w > image.shape[1]//15 and h > image.shape[0]//15 and w*h in range(minarea,maxarea) ):\r\n",
    "                storeBoundries.append([x,y,w,h])\r\n",
    "                cv.rectangle(boundryImage,(x,y),(x+w,y+h),(0,0,255),1)\r\n",
    "        return (boundryImage, storeBoundries)\r\n",
    "    \r\n",
    "    def getStoreNodes(image, storeBoundries):\r\n",
    "        storeNodes = []\r\n",
    "        i=0\r\n",
    "        for [x,y,w,h] in storeBoundries:\r\n",
    "            if(not([x+w//2, y+h//2] in storeNodes)):\r\n",
    "                i+=1\r\n",
    "                storeNodes.append([x+w//2, y+h//2])\r\n",
    "            # cv.circle(image, (x+w//2,y+h//2), 2, (0, 0, 0), 2)\r\n",
    "            cv.putText(image, str(i), (x + w // 2, y + h // 2), cv.FONT_HERSHEY_SIMPLEX, 1, (0, 0, 255), 2, cv.LINE_AA)\r\n",
    "\r\n",
    "        return (image, storeNodes)\r\n",
    "            \r\n"
   ],
   "outputs": [],
   "metadata": {}
  },
  {
   "cell_type": "code",
   "execution_count": 3,
   "source": [
    "image = cv.imread('./Blueprints/test.png')\r\n",
    "cannyImg = getBlueprint.getCannyEdge(image)\r\n",
    "cannyImg = getBlueprint.getCannyEdge(cannyImg)\r\n",
    "# cv.imshow('cannyImg',cannyImg)\r\n",
    "cv.imwrite('./Outputs/cannyImg.png',cannyImg)\r\n",
    "\r\n",
    "(storeImg, storeBoundries) = getBlueprint.getStoreBoundries(np.copy(cannyImg))\r\n",
    "# cv.imshow('Stores',storeImg)\r\n",
    "cv.imwrite('./Outputs/Stores.png',storeImg)\r\n",
    "\r\n",
    "\r\n",
    "(nodeImg, storeNodes) = getBlueprint.getStoreNodes(np.copy(storeImg), storeBoundries)\r\n",
    "# cv.imshow('Nodes',nodeImg)\r\n",
    "cv.imwrite('./Outputs/Nodes.png',nodeImg)\r\n",
    "\r\n",
    "\r\n",
    "# print(cannyImg.shape,storeImg.shape)\r\n",
    "# print(len(storeBoundries),len(storeNodes))\r\n",
    "\r\n",
    "\r\n",
    "\r\n",
    "# cv.waitKey(0)"
   ],
   "outputs": [
    {
     "output_type": "execute_result",
     "data": {
      "text/plain": [
       "True"
      ]
     },
     "metadata": {},
     "execution_count": 3
    }
   ],
   "metadata": {
    "tags": []
   }
  },
  {
   "cell_type": "code",
   "execution_count": null,
   "source": [],
   "outputs": [],
   "metadata": {}
  }
 ],
 "metadata": {
  "kernelspec": {
   "name": "python3",
   "display_name": "Python 3.9.6 64-bit"
  },
  "language_info": {
   "codemirror_mode": {
    "name": "ipython",
    "version": 3
   },
   "file_extension": ".py",
   "mimetype": "text/x-python",
   "name": "python",
   "nbconvert_exporter": "python",
   "pygments_lexer": "ipython3",
   "version": "3.9.6"
  },
  "interpreter": {
   "hash": "6cfb479d296579085f6091e5a7727a11121cc3d75e2d1140668cd117d8fd9ef1"
  }
 },
 "nbformat": 4,
 "nbformat_minor": 1
}